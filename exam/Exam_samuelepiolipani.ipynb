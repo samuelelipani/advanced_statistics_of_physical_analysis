{
 "cells": [
  {
   "cell_type": "markdown",
   "metadata": {},
   "source": [
    "# Exam Samuele Pio Lipani"
   ]
  },
  {
   "cell_type": "code",
   "execution_count": 21,
   "metadata": {
    "ExecuteTime": {
     "end_time": "2020-06-23T14:46:53.875602Z",
     "start_time": "2020-06-23T14:46:53.251Z"
    }
   },
   "outputs": [],
   "source": [
    "library(dplyr) # Library for operators"
   ]
  },
  {
   "cell_type": "code",
   "execution_count": 22,
   "metadata": {
    "ExecuteTime": {
     "end_time": "2020-06-23T14:46:53.915736Z",
     "start_time": "2020-06-23T14:46:53.253Z"
    }
   },
   "outputs": [],
   "source": [
    "data <- c(120,122,121,108,133,119,136,108,106,105,122,139,\n",
    "          133,115,104,94,118,93,102,114,123,125,124,108,\n",
    "          111,134,107,107,112,109,125)"
   ]
  },
  {
   "cell_type": "markdown",
   "metadata": {},
   "source": [
    "Given a set of $n=30$ measurements $D=\\{y_i\\}$, from Bayes’ theorem: \n",
    "\n",
    "$$\n",
    "P(\\mu| D, \\sigma) \\propto P(D|\\mu,\\sigma) \\times P(\\mu|\\sigma)\n",
    "$$\n",
    "\n",
    "We assume that data are independent, i.e. a measurement of one datum does not interfere on the outcome of another (given $\\mu$ and $\\sigma$). Hence, the **Likelihood** of the data is:\n",
    "\n",
    "$$\n",
    "P(D|\\mu\\sigma) = \\prod_j P(y_j |\\mu,\\sigma) = \\prod_j \\frac{1}{\\sigma \\sqrt{2\\pi}} \\exp \\Big[ \\frac{(y_j-\\mu)^2}{2 \\sigma^2} \\Big]\n",
    "$$\n",
    "\n",
    "Let us assume our **Prior** has a **Normal** shape with mean $m$ and variance $s^2$, $N(m,s^2)$:\n",
    "\n",
    "$$\n",
    "G(\\mu|m,s) \\propto \\exp \\Big[ - \\frac{1}{2s^2} (\\mu-m)^2 \\Big]\n",
    "$$\n",
    "\n",
    "The shape of the **Likelihood** is:\n",
    "\n",
    "$$\n",
    "f(y|\\mu,\\sigma) \\propto \\exp \\Big[ - \\frac{1}{2\\sigma^2} (y-\\mu)^2 \\Big]\n",
    "$$\n",
    "\n",
    "The product LikelihoodxPrior becomes:\n",
    "\n",
    "$$\n",
    "f(y|\\mu,\\sigma) \\times G(\\mu|m,s) \\propto \\exp-\\frac{1}{2}\\Big[ \\frac{(y-\\mu)^2}{\\sigma^2}+\\frac{(\\mu-m)^2}{s^2} \\Big]\n",
    "$$\n",
    "\n",
    "With little algebra, it can be seen that the Posterior is a Normal distribution itself with mean and variance given by:\n",
    "\n",
    "$$\n",
    "m' = \\frac{\\sigma^2 m + s^2 y}{\\sigma^2+s^2} \\qquad (s')^2 = \\frac{\\sigma^2 s^2}{\\sigma^2 + s^2}\n",
    "$$\n",
    "\n",
    "With the definition $\\bar{y} = \\frac{1}{N} \\sum_j y_j $ it is possible to demonstrate that:\n",
    "\n",
    "$$\n",
    "m'= \\frac{1/s^2}{N/\\sigma^2 + 1/s^2} m + \\frac{N/\\sigma^2}{N/\\sigma^2 + 1/s^2} \\bar{y} \\qquad \\frac{1}{(s')^2} = \\frac{\\sigma^2+Ns^2}{\\sigma^2s^2} \n",
    "$$"
   ]
  },
  {
   "cell_type": "code",
   "execution_count": 20,
   "metadata": {
    "ExecuteTime": {
     "end_time": "2020-06-23T14:46:53.955953Z",
     "start_time": "2020-06-23T14:46:53.280Z"
    }
   },
   "outputs": [
    {
     "name": "stdout",
     "output_type": "stream",
     "text": [
      "Posterior mean:  116.1562 \n",
      "Posterior sd  :  2.65165 \n"
     ]
    }
   ],
   "source": [
    "# settings of the problem\n",
    "\n",
    "n <- 30\n",
    "mu <- seq(100,140,length.out=n)\n",
    "\n",
    "N <- length(data)\n",
    "y.bar <- mean(data)\n",
    "\n",
    "sigma.sq <- (15**2)\n",
    "s.sq <- (15**2)\n",
    "m <- 120\n",
    "\n",
    "mu.post <- (1/s.sq) / (N/sigma.sq + 1/s.sq) * m + (N/sigma.sq) / (N/sigma.sq + 1/s.sq) * y.bar\n",
    "sd.sq.post <- (sigma.sq * s.sq) / (sigma.sq + N * s.sq)\n",
    "\n",
    "# Prior\n",
    "norm.prior <- dnorm(mu,mean=m,sd=sqrt(s.sq))\n",
    "\n",
    "# Determine the Posterior \n",
    "norm.post <- dnorm(mu,mean=mu.post,sd=sqrt(sd.sq.post))\n",
    "\n",
    "# Normalize Posterior\n",
    "# (we renormalize the posterior because the Prior is 0 outside the interval of mu, while the Posterior is normalized in -inf,+inf)\n",
    "norm.post <- norm.post/(delta.mu*sum(norm.post))\n",
    "\n",
    "cat(\"Posterior mean: \",mu.post,'\\n')\n",
    "cat(\"Posterior sd  : \",sqrt(sd.sq.post),'\\n')\n"
   ]
  },
  {
   "cell_type": "code",
   "execution_count": 11,
   "metadata": {
    "ExecuteTime": {
     "end_time": "2020-06-23T14:46:53.983933Z",
     "start_time": "2020-06-23T14:46:53.281Z"
    }
   },
   "outputs": [
    {
     "name": "stdout",
     "output_type": "stream",
     "text": [
      "x1 110.8529 \n",
      "x2 121.4596"
     ]
    }
   ],
   "source": [
    "# since we are talking about a gaussian posterior we can use the property of a gaussian of being integrated\n",
    "# for the 95% of its area if we consider an interval of mu +- 2*sigma\n",
    "x1 <- mu.post - 2 * sqrt(sd.sq.post)\n",
    "x2 <- mu.post + 2 * sqrt(sd.sq.post)\n",
    "\n",
    "cat(\"x1\",x1,'\\n')\n",
    "cat(\"x2\",x2)"
   ]
  },
  {
   "cell_type": "code",
   "execution_count": 19,
   "metadata": {},
   "outputs": [
    {
     "data": {
      "image/png": "[encoded data removed]",
      "text/plain": [
       "Plot with title \"Posterior\""
      ]
     },
     "metadata": {
      "image/png": {
       "height": 600,
       "width": 1200
      }
     },
     "output_type": "display_data"
    }
   ],
   "source": [
    "plot(mu,norm.post, type=\"l\", col=\"dodgerblue\", lwd=3,xlab=expression(mu),ylab=\"P(mu|x)\", \n",
    "     main=\"Posterior\")\n",
    "abline(v = x1, col=\"red\")\n",
    "abline(v = x2, col=\"red\")\n",
    "legend(\"topright\",legend=c(\"Posterior\", \"Credibility interval\"), col=c(\"dodgerblue\",\"red\"),fill=c(\"dodgerblue\",\"red\"))"
   ]
  },
  {
   "cell_type": "code",
   "execution_count": 6,
   "metadata": {
    "ExecuteTime": {
     "end_time": "2020-06-23T14:46:54.962799Z",
     "start_time": "2020-06-23T14:46:53.285Z"
    }
   },
   "outputs": [
    {
     "data": {
      "text/plain": [
       "0.9999999 with absolute error < 2.8e-07"
      ]
     },
     "metadata": {},
     "output_type": "display_data"
    }
   ],
   "source": [
    "# Compute the hyphotesis testing \n",
    "p0 <- 130\n",
    "post <- function(x){dnorm(x, mu.post, sqrt(sd.sq.post)) } \n",
    "result <- integrate(post, lower=0, upper=p0)\n",
    "\n",
    "result"
   ]
  },
  {
   "cell_type": "markdown",
   "metadata": {},
   "source": [
    "Since `result` is higher than the 5% significance level we cannot reject the null hypothesis."
   ]
  }
 ],
 "metadata": {
  "kernelspec": {
   "display_name": "R",
   "language": "R",
   "name": "ir"
  },
  "language_info": {
   "codemirror_mode": "r",
   "file_extension": ".r",
   "mimetype": "text/x-r-source",
   "name": "R",
   "pygments_lexer": "r",
   "version": "4.0.4"
  },
  "varInspector": {
   "cols": {
    "lenName": 16,
    "lenType": 16,
    "lenVar": 40
   },
   "kernels_config": {
    "python": {
     "delete_cmd_postfix": "",
     "delete_cmd_prefix": "del ",
     "library": "var_list.py",
     "varRefreshCmd": "print(var_dic_list())"
    },
    "r": {
     "delete_cmd_postfix": ") ",
     "delete_cmd_prefix": "rm(",
     "library": "var_list.r",
     "varRefreshCmd": "cat(var_dic_list()) "
    }
   },
   "types_to_exclude": [
    "module",
    "function",
    "builtin_function_or_method",
    "instance",
    "_Feature"
   ],
   "window_display": false
  }
 },
 "nbformat": 4,
 "nbformat_minor": 4
}
