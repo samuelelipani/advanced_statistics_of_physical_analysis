{
 "cells": [
  {
   "cell_type": "markdown",
   "metadata": {},
   "source": [
    "## Nome: Samuele Pio Lipani"
   ]
  },
  {
   "cell_type": "code",
   "execution_count": 1,
   "metadata": {},
   "outputs": [
    {
     "name": "stderr",
     "output_type": "stream",
     "text": [
      "Warning message:\n",
      "\"package 'gridExtra' was built under R version 4.0.5\"\n",
      "-- \u001b[1mAttaching packages\u001b[22m ------------------------------------------------------------------------------- tidyverse 1.3.0 --\n",
      "\n",
      "\u001b[32mv\u001b[39m \u001b[34mtibble \u001b[39m 3.1.0     \u001b[32mv\u001b[39m \u001b[34mdplyr  \u001b[39m 1.0.5\n",
      "\u001b[32mv\u001b[39m \u001b[34mtidyr  \u001b[39m 1.1.3     \u001b[32mv\u001b[39m \u001b[34mstringr\u001b[39m 1.4.0\n",
      "\u001b[32mv\u001b[39m \u001b[34mreadr  \u001b[39m 1.4.0     \u001b[32mv\u001b[39m \u001b[34mforcats\u001b[39m 0.5.1\n",
      "\u001b[32mv\u001b[39m \u001b[34mpurrr  \u001b[39m 0.3.4     \n",
      "\n",
      "-- \u001b[1mConflicts\u001b[22m ---------------------------------------------------------------------------------- tidyverse_conflicts() --\n",
      "\u001b[31mx\u001b[39m \u001b[34mdplyr\u001b[39m::\u001b[32mcombine()\u001b[39m masks \u001b[34mgridExtra\u001b[39m::combine()\n",
      "\u001b[31mx\u001b[39m \u001b[34mdplyr\u001b[39m::\u001b[32mfilter()\u001b[39m  masks \u001b[34mstats\u001b[39m::filter()\n",
      "\u001b[31mx\u001b[39m \u001b[34mdplyr\u001b[39m::\u001b[32mlag()\u001b[39m     masks \u001b[34mstats\u001b[39m::lag()\n",
      "\n"
     ]
    }
   ],
   "source": [
    "library(ggplot2)\n",
    "library(grid)\n",
    "library(gridExtra)\n",
    "library(tidyverse)"
   ]
  },
  {
   "cell_type": "markdown",
   "metadata": {},
   "source": [
    "## Esercizio 1 - six boxes toy model con user input"
   ]
  },
  {
   "cell_type": "markdown",
   "metadata": {},
   "source": [
    "Il gioco:\n",
    "- vi sono 6 scatole indistinguibili ognuna contenente 5 pietre nere oppure bianche\n",
    "- la composizione differisce per ciascuna\n",
    "- le scatole sono denominate $H_j$, in base al numero di pietre bianche che contengono con $j=0,1,\\dots,5$\n",
    "\n",
    "![Six boxes toy model](six.PNG)\n",
    "(Qui avrei voluto mettere un link al mio github per mostrare l'immagine ma non funziona)\n",
    "\n",
    "Le regole sono altrettanto semplici:\n",
    "- si sceglie una scatola randomicamente dalle 6 a disposizione senza conoscerne il contenuto\n",
    "- si prova ad indovinare il contenuto della stessa estraendo a random una pietra dalla stessa\n",
    "- la pietra viene estratta e poi reinserita nella scatola\n",
    "\n",
    "Sia $I$ l'informazione che possediamo a priori:\n",
    "- $H_j$ è la box selezionata ($j=0,1\\dots,5$)\n",
    "- $E_w$ è l'evento estrazione di una pietra bianca\n",
    "- $E_b$ è l'evento estrazione di una pietra nera\n",
    "\n",
    "Per descrivere opportunamente il problema bisogna individuare quale esso realmente sia. \n",
    "- qual è la probabilità di selezionare una box?\n",
    "- dopo che estraiamo una pietra qual è la probabilità che essa sia bianca, $P(E_w|I)$, o nera, $P(E_b|I)$ nell'estrazione successiva?\n",
    "- come è aggiornato il valore della probabilità di una successiva estrazione dopo che una pietra viene estratta e svelato il suo colore?\n",
    "\n",
    "Lo spazio degli eventi $\\Omega$ può essere decomposto a partire dagli eventi $E_k, \\ k=b,\\dots,w$,  oppure tramite $H_j$. Siamo tuttavia incerti sulle probabilità delle 12 combinazioni $E_k \\cap H_j$.\n",
    "$E_k$ e $H_j$ formano una classe completa di ipotesi e ciascun evento si può scrivere come la somma logica dei suoi costituenti sfruttando la marginalizzazione di $E_k \\cap H_j$ rispetto a $j$ trovando $E_k$ oppure rispetto a $k$ ottenendo $H_j$. \n",
    "Infine poichè gli eventi $E_k \\cap H_j$ sono mutuamente esclusivi è possibile ricavare la probabilità di estrazione di una scatola e di una pietra come:\n",
    "\n",
    "$$ P(E_k) = \\sum_jP(E_k \\cap H_j|I) = \\sum_j P(E_k|H_jI)P(H_j|I) \\\\ P(H_j) = \\sum_jP(H_j \\cap E_k|I) = \\sum_j P(H_j|E_kI)P(E_k|I)$$\n",
    "\n",
    "Quelli che possiamo osservare esplicitamente sono gli eventi $E_k$ mentre $H_j$ sono le cause che subiranno il processo di inferenza Bayesiana.\n",
    "Dopo un po' di algebra si giunge alla formula ricorsiva che restituisce la probabilità di estrarre una pietra bianca oppure nera dalla j-esima scatola:\n",
    "\n",
    "$$P(H_j|E_wI_n) = \\frac{j/5 \\cdot P(H_j|I_{n-1})}{1/2} \\\\ P(H_j|E_bI) = \\frac{(5-j)/5 \\cdot P(H_j|I_{n-1})}{1/2}$$\n",
    "\n",
    "A partire da queste due relazioni è possibile calcolare le due probabilità al variare del colore estratto fornito come input dall'user e per ogni estrazione $n$. \n",
    "Durante lo step n-esimo il prior che utilizziamo fa riferimento al posterior ottenuto dallo step precedente n-1, il valore iniziale è $1/6$ in quanto decidiamo che la probabilità di scegliere una scatola sia uniformemente distribuita per tutte e sei.\n"
   ]
  },
  {
   "cell_type": "code",
   "execution_count": 2,
   "metadata": {},
   "outputs": [],
   "source": [
    "# implementazione al variare dell'input b/w dell'esperimento delle sei scatole \n",
    "\n",
    "likelihood <- function(i,j) {\n",
    "    #i <- readline(prompt=\"Colore estratto: \")\n",
    "    #if(i == \"x\") sprintf(\"Processo interrotto\") \n",
    "    l <- ifelse(i == \"w\", j/5, ifelse(i == \"b\", (5-j)/5, sprintf(\"Input sbagliato riprovare\")))\n",
    "    return(l)\n",
    "}\n",
    "\n",
    "plotbox  <- function()\n",
    "# likelihood(,5)\n",
    "\n",
    "# vorrei una funzione che continua a funzionare fino a quando non inserisco un particolare input, ciascuna iterazione mi restituisce il \n",
    "# posterior e quando la interrompo fa un plot dei posterior inferred al variare dello step in cui sono stati calcolati.\n",
    "# Tale funzione ogni iterazione calcola 6 posterior diversi che memorizza all'interno di sei vettori differenti. \n",
    "\n",
    "posterior <- function(i = readline(prompt = \"Premere x per interrompere, colore estratto: \")) {\n",
    "    prior <- rep(1/6,6)\n",
    "    group <- data.frame(H0=0.167,H1=0.167,H2=0.167,H3=0.167,H4=0.167,H5=0.167, Ex=NA)  \n",
    "    # inizializzandolo con il prior uniforme \n",
    "    # posteriors <- c(\"h0\",\"h1\",\"h2\",\"h3\",\"h4\",\"h5\")\n",
    "    # creo un dataframe in modo da avere a portata di mano tutti e sei i posteriors e poter accedere alle singole colonne del dataframe \n",
    "    # contemporaneamente tramite l'asseganzione group[,posteriors] <- c() oppure aggiungere una riga direttamente al dataframe tramite \n",
    "    # la scrittura group[nrow(group) + 1,] <- c()\n",
    "\n",
    "    while(i != \"x\") {\n",
    "        \n",
    "        likeli <- rep(NA,length(group)-1) # perchè va tolta la colonna con il colore estratto\n",
    "        for(j in 0:5) {\n",
    "            likeli[j+1] <- likelihood(i,j)\n",
    "            }\n",
    "        # nella sezione precedente calcolo la likelihood una volta per tutte. Da questo momento in poi bisogna aggiungere al dataframe per ogni \n",
    "        # nuova riga il posterior con un prior che parte da 1/6 e si aggiorna ad ogni iterazione diventando il posterior precedente\n",
    "\n",
    "        group[nrow(group) + 1,] <-  c((likeli * as.numeric(prior))/(sum(likeli * as.numeric(prior))), i)\n",
    "        \n",
    "        # all'ultima colonna viene assegnato il colore dell'estrazione inserito da input\n",
    "        # adesso aggiorno il prior attraverso l'ultima riga del dataframe che ho appena calcolato \n",
    "        prior <- group[nrow(group),-length(group)]\n",
    "        \n",
    "        print(\"Current posterior:\")\n",
    "        print(prior); flush.console()\n",
    "        \n",
    "        \n",
    "        i <- readline(prompt = \"Colore estratto: \")\n",
    "        # infine per mantenere il while attivo mi basta chiedere nuovamente quale sia il colore estratto, in questo modo me lo trovo già pronto\n",
    "        # per l'iterazione successiva \n",
    "        }\n",
    "    \n",
    "    return(group)\n",
    "}"
   ]
  },
  {
   "cell_type": "code",
   "execution_count": 3,
   "metadata": {},
   "outputs": [
    {
     "name": "stdin",
     "output_type": "stream",
     "text": [
      "Colore estratto:  w\n"
     ]
    },
    {
     "name": "stdout",
     "output_type": "stream",
     "text": [
      "[1] \"Current osterior:\"\n",
      "  H0                 H1                H2  H3                H4\n",
      "2  0 0.0666666666666667 0.133333333333333 0.2 0.266666666666667\n",
      "                 H5\n",
      "2 0.333333333333333\n"
     ]
    },
    {
     "name": "stdin",
     "output_type": "stream",
     "text": [
      "Colore estratto:  w\n"
     ]
    },
    {
     "name": "stdout",
     "output_type": "stream",
     "text": [
      "[1] \"Current osterior:\"\n",
      "  H0                 H1                 H2                H3                H4\n",
      "3  0 0.0181818181818182 0.0727272727272726 0.163636363636364 0.290909090909091\n",
      "                 H5\n",
      "3 0.454545454545454\n"
     ]
    },
    {
     "name": "stdin",
     "output_type": "stream",
     "text": [
      "Colore estratto:  w\n"
     ]
    },
    {
     "name": "stdout",
     "output_type": "stream",
     "text": [
      "[1] \"Current osterior:\"\n",
      "  H0                  H1                 H2   H3                H4\n",
      "4  0 0.00444444444444445 0.0355555555555555 0.12 0.284444444444445\n",
      "                 H5\n",
      "4 0.555555555555555\n"
     ]
    },
    {
     "name": "stdin",
     "output_type": "stream",
     "text": [
      "Colore estratto:  w\n"
     ]
    },
    {
     "name": "stdout",
     "output_type": "stream",
     "text": [
      "[1] \"Current osterior:\"\n",
      "  H0                  H1                 H2                 H3\n",
      "5  0 0.00102145045965271 0.0163432073544433 0.0827374872318693\n",
      "                 H4                H5\n",
      "5 0.261491317671094 0.638406537282941\n"
     ]
    },
    {
     "name": "stdin",
     "output_type": "stream",
     "text": [
      "Colore estratto:  w\n"
     ]
    },
    {
     "name": "stdout",
     "output_type": "stream",
     "text": [
      "[1] \"Current osterior:\"\n",
      "  H0                   H1                  H2                 H3\n",
      "6  0 0.000225988700564972 0.00723163841807909 0.0549152542372882\n",
      "                 H4                H5\n",
      "6 0.231412429378532 0.706214689265536\n"
     ]
    },
    {
     "name": "stdin",
     "output_type": "stream",
     "text": [
      "Colore estratto:  w\n"
     ]
    },
    {
     "name": "stdout",
     "output_type": "stream",
     "text": [
      "[1] \"Current osterior:\"\n",
      "  H0                   H1                  H2                 H3\n",
      "7  0 4.87448208627834e-05 0.00311966853521813 0.0355349744089691\n",
      "                 H4                H5\n",
      "7 0.199658786253961 0.761637825980989\n"
     ]
    },
    {
     "name": "stdin",
     "output_type": "stream",
     "text": [
      "Colore estratto:  w\n"
     ]
    },
    {
     "name": "stdout",
     "output_type": "stream",
     "text": [
      "[1] \"Current osterior:\"\n",
      "  H0                   H1                  H2                H3\n",
      "8  0 1.03279111799639e-05 0.00132197263103537 0.022587141750581\n",
      "                 H4                H5\n",
      "8 0.169212496772528 0.806868060934675\n"
     ]
    },
    {
     "name": "stdin",
     "output_type": "stream",
     "text": [
      "Colore estratto:  b\n"
     ]
    },
    {
     "name": "stdout",
     "output_type": "stream",
     "text": [
      "[1] \"Current osterior:\"\n",
      "  H0                  H1                 H2               H3                H4\n",
      "9  0 0.00018916107065166 0.0181594627825593 0.20684763075759 0.774803745389199\n",
      "  H5\n",
      "9  0\n"
     ]
    },
    {
     "name": "stdin",
     "output_type": "stream",
     "text": [
      "Colore estratto:  x\n"
     ]
    }
   ],
   "source": [
    "# la funzione postrior oltre a memorizzare in un oggetto che ho assegnato a group un dataframe contenente tutta la cronologia delle estrazioni\n",
    "# mi permette di vedere quanto vale il posterior per ciascuna scatola ad ogni iterazione stampando quello che nel ciclo ho già assegnato a \n",
    "# prior per essere per l'appunto il nuovo prior della successiva esecuzione\n",
    "\n",
    "group <- posterior()"
   ]
  },
  {
   "cell_type": "code",
   "execution_count": 4,
   "metadata": {},
   "outputs": [
    {
     "data": {
      "text/html": [
       "<table class=\"dataframe\">\n",
       "<caption>A data.frame: 9 × 7</caption>\n",
       "<thead>\n",
       "\t<tr><th></th><th scope=col>H0</th><th scope=col>H1</th><th scope=col>H2</th><th scope=col>H3</th><th scope=col>H4</th><th scope=col>H5</th><th scope=col>Ex</th></tr>\n",
       "\t<tr><th></th><th scope=col>&lt;chr&gt;</th><th scope=col>&lt;chr&gt;</th><th scope=col>&lt;chr&gt;</th><th scope=col>&lt;chr&gt;</th><th scope=col>&lt;chr&gt;</th><th scope=col>&lt;chr&gt;</th><th scope=col>&lt;chr&gt;</th></tr>\n",
       "</thead>\n",
       "<tbody>\n",
       "\t<tr><th scope=row>1</th><td>0.167</td><td>0.167               </td><td>0.167              </td><td>0.167             </td><td>0.167            </td><td>0.167            </td><td>NA</td></tr>\n",
       "\t<tr><th scope=row>2</th><td>0    </td><td>0.0666666666666667  </td><td>0.133333333333333  </td><td>0.2               </td><td>0.266666666666667</td><td>0.333333333333333</td><td>w </td></tr>\n",
       "\t<tr><th scope=row>3</th><td>0    </td><td>0.0181818181818182  </td><td>0.0727272727272726 </td><td>0.163636363636364 </td><td>0.290909090909091</td><td>0.454545454545454</td><td>w </td></tr>\n",
       "\t<tr><th scope=row>4</th><td>0    </td><td>0.00444444444444445 </td><td>0.0355555555555555 </td><td>0.12              </td><td>0.284444444444445</td><td>0.555555555555555</td><td>w </td></tr>\n",
       "\t<tr><th scope=row>5</th><td>0    </td><td>0.00102145045965271 </td><td>0.0163432073544433 </td><td>0.0827374872318693</td><td>0.261491317671094</td><td>0.638406537282941</td><td>w </td></tr>\n",
       "\t<tr><th scope=row>6</th><td>0    </td><td>0.000225988700564972</td><td>0.00723163841807909</td><td>0.0549152542372882</td><td>0.231412429378532</td><td>0.706214689265536</td><td>w </td></tr>\n",
       "\t<tr><th scope=row>7</th><td>0    </td><td>4.87448208627834e-05</td><td>0.00311966853521813</td><td>0.0355349744089691</td><td>0.199658786253961</td><td>0.761637825980989</td><td>w </td></tr>\n",
       "\t<tr><th scope=row>8</th><td>0    </td><td>1.03279111799639e-05</td><td>0.00132197263103537</td><td>0.022587141750581 </td><td>0.169212496772528</td><td>0.806868060934675</td><td>w </td></tr>\n",
       "\t<tr><th scope=row>9</th><td>0    </td><td>0.00018916107065166 </td><td>0.0181594627825593 </td><td>0.20684763075759  </td><td>0.774803745389199</td><td>0                </td><td>b </td></tr>\n",
       "</tbody>\n",
       "</table>\n"
      ],
      "text/latex": [
       "A data.frame: 9 × 7\n",
       "\\begin{tabular}{r|lllllll}\n",
       "  & H0 & H1 & H2 & H3 & H4 & H5 & Ex\\\\\n",
       "  & <chr> & <chr> & <chr> & <chr> & <chr> & <chr> & <chr>\\\\\n",
       "\\hline\n",
       "\t1 & 0.167 & 0.167                & 0.167               & 0.167              & 0.167             & 0.167             & NA\\\\\n",
       "\t2 & 0     & 0.0666666666666667   & 0.133333333333333   & 0.2                & 0.266666666666667 & 0.333333333333333 & w \\\\\n",
       "\t3 & 0     & 0.0181818181818182   & 0.0727272727272726  & 0.163636363636364  & 0.290909090909091 & 0.454545454545454 & w \\\\\n",
       "\t4 & 0     & 0.00444444444444445  & 0.0355555555555555  & 0.12               & 0.284444444444445 & 0.555555555555555 & w \\\\\n",
       "\t5 & 0     & 0.00102145045965271  & 0.0163432073544433  & 0.0827374872318693 & 0.261491317671094 & 0.638406537282941 & w \\\\\n",
       "\t6 & 0     & 0.000225988700564972 & 0.00723163841807909 & 0.0549152542372882 & 0.231412429378532 & 0.706214689265536 & w \\\\\n",
       "\t7 & 0     & 4.87448208627834e-05 & 0.00311966853521813 & 0.0355349744089691 & 0.199658786253961 & 0.761637825980989 & w \\\\\n",
       "\t8 & 0     & 1.03279111799639e-05 & 0.00132197263103537 & 0.022587141750581  & 0.169212496772528 & 0.806868060934675 & w \\\\\n",
       "\t9 & 0     & 0.00018916107065166  & 0.0181594627825593  & 0.20684763075759   & 0.774803745389199 & 0                 & b \\\\\n",
       "\\end{tabular}\n"
      ],
      "text/markdown": [
       "\n",
       "A data.frame: 9 × 7\n",
       "\n",
       "| <!--/--> | H0 &lt;chr&gt; | H1 &lt;chr&gt; | H2 &lt;chr&gt; | H3 &lt;chr&gt; | H4 &lt;chr&gt; | H5 &lt;chr&gt; | Ex &lt;chr&gt; |\n",
       "|---|---|---|---|---|---|---|---|\n",
       "| 1 | 0.167 | 0.167                | 0.167               | 0.167              | 0.167             | 0.167             | NA |\n",
       "| 2 | 0     | 0.0666666666666667   | 0.133333333333333   | 0.2                | 0.266666666666667 | 0.333333333333333 | w  |\n",
       "| 3 | 0     | 0.0181818181818182   | 0.0727272727272726  | 0.163636363636364  | 0.290909090909091 | 0.454545454545454 | w  |\n",
       "| 4 | 0     | 0.00444444444444445  | 0.0355555555555555  | 0.12               | 0.284444444444445 | 0.555555555555555 | w  |\n",
       "| 5 | 0     | 0.00102145045965271  | 0.0163432073544433  | 0.0827374872318693 | 0.261491317671094 | 0.638406537282941 | w  |\n",
       "| 6 | 0     | 0.000225988700564972 | 0.00723163841807909 | 0.0549152542372882 | 0.231412429378532 | 0.706214689265536 | w  |\n",
       "| 7 | 0     | 4.87448208627834e-05 | 0.00311966853521813 | 0.0355349744089691 | 0.199658786253961 | 0.761637825980989 | w  |\n",
       "| 8 | 0     | 1.03279111799639e-05 | 0.00132197263103537 | 0.022587141750581  | 0.169212496772528 | 0.806868060934675 | w  |\n",
       "| 9 | 0     | 0.00018916107065166  | 0.0181594627825593  | 0.20684763075759   | 0.774803745389199 | 0                 | b  |\n",
       "\n"
      ],
      "text/plain": [
       "  H0    H1                   H2                  H3                \n",
       "1 0.167 0.167                0.167               0.167             \n",
       "2 0     0.0666666666666667   0.133333333333333   0.2               \n",
       "3 0     0.0181818181818182   0.0727272727272726  0.163636363636364 \n",
       "4 0     0.00444444444444445  0.0355555555555555  0.12              \n",
       "5 0     0.00102145045965271  0.0163432073544433  0.0827374872318693\n",
       "6 0     0.000225988700564972 0.00723163841807909 0.0549152542372882\n",
       "7 0     4.87448208627834e-05 0.00311966853521813 0.0355349744089691\n",
       "8 0     1.03279111799639e-05 0.00132197263103537 0.022587141750581 \n",
       "9 0     0.00018916107065166  0.0181594627825593  0.20684763075759  \n",
       "  H4                H5                Ex\n",
       "1 0.167             0.167             NA\n",
       "2 0.266666666666667 0.333333333333333 w \n",
       "3 0.290909090909091 0.454545454545454 w \n",
       "4 0.284444444444445 0.555555555555555 w \n",
       "5 0.261491317671094 0.638406537282941 w \n",
       "6 0.231412429378532 0.706214689265536 w \n",
       "7 0.199658786253961 0.761637825980989 w \n",
       "8 0.169212496772528 0.806868060934675 w \n",
       "9 0.774803745389199 0                 b "
      ]
     },
     "metadata": {},
     "output_type": "display_data"
    }
   ],
   "source": [
    "# l'oggetto risultante è dunque un dataframe contenente la cronologia dell'inferenza sulle sei scatole per ciascuna estrazione\n",
    "group"
   ]
  },
  {
   "cell_type": "code",
   "execution_count": 5,
   "metadata": {},
   "outputs": [],
   "source": [
    "# Plot che cambia ad ogni iterazione: inserisco il plot direttamente all'interno della funzione posterior nel ciclo while"
   ]
  },
  {
   "cell_type": "code",
   "execution_count": 6,
   "metadata": {},
   "outputs": [],
   "source": [
    "plot.posterior <- function(posterior, index) {\n",
    "    df.ggplot <- data.frame(0:5, posterior)\n",
    "    names(df.ggplot) <- c(\"box_hypothesis\", \"posterior\")\n",
    "    ggplot(data = df.ggplot, aes(x = box_hypothesis, y = posterior)) + geom_point() + geom_line() + ggtitle(sprintf(\"Extraction n. %d\", index))\n",
    "}"
   ]
  },
  {
   "cell_type": "code",
   "execution_count": 7,
   "metadata": {},
   "outputs": [],
   "source": [
    "posterior1 <- function(i = readline(prompt = \"Colore estratto: \")) {\n",
    "    prior <- rep(1/6,6)\n",
    "    group <- data.frame(H0=0.167,H1=0.167,H2=0.167,H3=0.167,H4=0.167,H5=0.167, Ex=NA)  \n",
    "    while(i != \"x\") {\n",
    "        likeli <- rep(NA,length(group)-1) \n",
    "        for(j in 0:5) {\n",
    "            likeli[j+1] <- likelihood(i,j)\n",
    "            }\n",
    "        group[nrow(group) + 1,] <-  c((likeli * as.numeric(prior))/(sum(likeli * as.numeric(prior))), i)\n",
    "        prior <- group[nrow(group),-length(group)]\n",
    "        \n",
    "        # print(plot.posterior(as.numeric(prior), nrow(group)-1)) non funziona in jupyter quindi plotto direttamente fuori dal ciclo\n",
    "        # altrimenti si vedono i plot in ritardo dopo almeno tre iterazioni iniziano ad essere mostrati\n",
    "        \n",
    "        i <- readline(prompt = \"Colore estratto: \")\n",
    "        }\n",
    "    print(plot.posterior(as.numeric(prior), nrow(group)-1))\n",
    "    return(group)\n",
    "}"
   ]
  },
  {
   "cell_type": "code",
   "execution_count": 8,
   "metadata": {},
   "outputs": [
    {
     "name": "stdin",
     "output_type": "stream",
     "text": [
      "Colore estratto:  w\n",
      "Colore estratto:  w\n",
      "Colore estratto:  w\n",
      "Colore estratto:  w\n",
      "Colore estratto:  w\n",
      "Colore estratto:  w\n",
      "Colore estratto:  b\n",
      "Colore estratto:  x\n"
     ]
    },
    {
     "data": {
      "image/png": "[encoded data removed]",
      "text/plain": [
       "plot without title"
      ]
     },
     "metadata": {
      "image/png": {
       "height": 420,
       "width": 420
      }
     },
     "output_type": "display_data"
    }
   ],
   "source": [
    "group1 <- posterior1()"
   ]
  },
  {
   "cell_type": "markdown",
   "metadata": {},
   "source": [
    "## Esercizio 2 - Simulazione del six box model senza user input "
   ]
  },
  {
   "cell_type": "markdown",
   "metadata": {},
   "source": [
    "A differenza del caso precedente posso scegliere una cassa conoscendo il suo contenuto; successivamente estraggo $n$ samples randomicamente dalla stessa e confronto tramite inferenza Bayesiana quale sia la probabilità di aver estratto una pietra proprio da quella scatola selezionata."
   ]
  },
  {
   "cell_type": "code",
   "execution_count": 139,
   "metadata": {},
   "outputs": [
    {
     "name": "stdout",
     "output_type": "stream",
     "text": [
      "[1] \"The unknown box contains 5 white balls and 0 black balls (hypothesis H5)\"\n"
     ]
    },
    {
     "data": {
      "image/png": "[encoded data removed]",
      "text/plain": [
       "plot without title"
      ]
     },
     "metadata": {
      "image/png": {
       "height": 420,
       "width": 420
      }
     },
     "output_type": "display_data"
    }
   ],
   "source": [
    "set.seed(12345)\n",
    "\n",
    "n.white <- sample(0:5)[1]\n",
    "print(sprintf(\"The unknown box contains %d white balls and %d black balls (hypothesis H%d)\", n.white, (5-n.white), n.white))\n",
    "box <- c(rep(0, times = n.white), rep(1, times = 5-n.white))\n",
    "\n",
    "rbox <- function(box) sample(box)[1]\n",
    "\n",
    "colors.array <- c(\"w\", \"b\")\n",
    "# 0 è white mentre 1 è black\n",
    "n.draws <- 20\n",
    "\n",
    "prior1 <- rep(1/6,6)\n",
    "group1 <- data.frame(H0=0.167,H1=0.167,H2=0.167,H3=0.167,H4=0.167,H5=0.167)  \n",
    "\n",
    "for(e in 1:n.draws) {\n",
    "    likeli1 <- rep(NA,length(group1)) \n",
    "    \n",
    "    extracted.color <- rbox(box)\n",
    "    for(j in 0:5) {\n",
    "        likeli1[j+1] <- likelihood(colors.array[extracted.color+1],j)\n",
    "        }\n",
    "    group1[nrow(group1) + 1,] <-  (likeli1 * prior1)/(sum(likeli1 * prior1))\n",
    "    \n",
    "    prior1 <- group1[nrow(group1),]\n",
    "    \n",
    "    }\n",
    "\n",
    "plot.posterior(as.numeric(prior1), nrow(group1)-1)\n"
   ]
  },
  {
   "cell_type": "markdown",
   "metadata": {
    "tags": []
   },
   "source": [
    "## Esercizio 3 - Estrarre samples da una Erlang distribution $Gamma(m,\\beta)$\n",
    "\n",
    "A partire da una sequenza di random variables $X_i \\sim \\ Gamma(\\alpha _j,\\beta)$ si osserva una proprietà importante di una distribuzione esponenziale: \n",
    "\n",
    "$$ Y = \\sum_{j=1}^n X_j \\sim  \\ Gamma(\\alpha,\\beta) \\ \\ \\  \\text{con} \\ \\alpha = \\sum_{j=1}^n \\alpha_j$$\n",
    "\n",
    "Se $\\alpha$ è un numero intero $m$ allora è possibile ottenere la distribuzione di Erlang sommando n indipendenti random variables esponenziali $X_j \\sim \\ Exp(\\beta)$: \n",
    "\n",
    "$$ Y = \\beta \\sum_{j=1}^n -log(U_j) = -\\beta \\ log \\prod_{j=1}^n U_j$$\n",
    "\n",
    "dove $U_j$ sono samples uniformemente distribuiti in $[0,1]$ utilizzati per estrarre random variables da una distribuzione esponenziale tramite l'inverse sampling.\n",
    "\n",
    "Posso estrarre samples dalla distribuzione di Erlang tramite:\n",
    "- definizione precedente della $Y$ come somma di logaritmi a partire da una variabile distribuita uniformemente in $[0,1]$\n",
    "- utilizzare la funzione base di r in cui specifichiamo come primo parametro della dsitribuzione esponenziale un numero intero\n",
    "- inverse sampling \n"
   ]
  },
  {
   "cell_type": "code",
   "execution_count": 150,
   "metadata": {},
   "outputs": [
    {
     "data": {
      "image/png": "[encoded data removed]",
      "text/plain": [
       "Plot with title \"Histogram of rerlang(10000, 1, 1)\""
      ]
     },
     "metadata": {
      "image/png": {
       "height": 420,
       "width": 420
      }
     },
     "output_type": "display_data"
    }
   ],
   "source": [
    "# Scelgo la prima opzione \n",
    "\n",
    "rerlang <- function(n, lambda, m){\n",
    "    x <- rep(0,n) \n",
    "    # n è il numero di samples che voglio estrarre randomicamente dalla Erlang\n",
    "    for (i in 1:n) x[i] <- -1/lambda*sum(log(runif(m)))\n",
    "    # lambda è il reciproco di beta mentre m corrisponde ad alpha \n",
    "    return(x)\n",
    "}\n",
    "\n",
    "x <- seq(1,10000)\n",
    "\n",
    "hist(rerlang(10000,1,1), freq=FALSE)\n",
    "curve(dgamma(x,1,1),add = TRUE, lwd = 3)\n",
    "# sfrutto la definizio per cui la Erlang è un caso particolare della gamma distribution per sovrapporre all'istogramma dei samples che sono \n",
    "# stati estratti manualmente quelli che invece provengono dalla dgamma con gli stessi parametri della erlang"
   ]
  },
  {
   "cell_type": "markdown",
   "metadata": {},
   "source": [
    "## Esercizio 4 - Random numbers generator \n",
    "\n",
    "Per implementare il generatore di numeri casuali di Von Neumann si fissa un numero (come un seed da imporre nel generatore di r base per la ripetibilità delle estrazioni), si eleva al quadrato e si estrae da esso un numero avente tante cifre quante quello iniziale eliminando l'inizio e la parte finale. \n"
   ]
  },
  {
   "cell_type": "code",
   "execution_count": 226,
   "metadata": {
    "tags": []
   },
   "outputs": [
    {
     "data": {
      "text/html": [
       "'Il primo numero casuale estratto dal seed 2343 è 4896'"
      ],
      "text/latex": [
       "'Il primo numero casuale estratto dal seed 2343 è 4896'"
      ],
      "text/markdown": [
       "'Il primo numero casuale estratto dal seed 2343 è 4896'"
      ],
      "text/plain": [
       "[1] \"Il primo numero casuale estratto dal seed 2343 è 4896\""
      ]
     },
     "metadata": {},
     "output_type": "display_data"
    }
   ],
   "source": [
    "n <- 2343\n",
    "\n",
    "randomnumber <- function(n){\n",
    "    lenseed <- function(n) length(unlist(strsplit(as.character(n),\"\")))\n",
    "    # questa funzione serve per contare il numero di cifre nel seed iniziale per confrontarle successivamente con il numero di cifre del quadrato\n",
    "\n",
    "    number <- unlist(strsplit(as.character(n*n),\"\"))\n",
    "    # innanzitutto bisogna controllare che il numero di elementi sia 2n così da poter identificare una parte centrale nel numero. Se ci dovessero \n",
    "    # essere meno cifre del previsto si aggiungono 2n-lenseed zeri all'inizio come padding \n",
    "    len <- lenseed(n)\n",
    "\n",
    "    numbercheck <- function(n,number) {\n",
    "        if(length(number) < 2*len) number <- c(rep(0,2*len-length(number)),number)\n",
    "        else number <- number \n",
    "        return(number)\n",
    "        }\n",
    "\n",
    "    number <- numbercheck(n,number)\n",
    "    number <- number[-c((1:(len/2)),((length(number)-len/2+1):length(number)))]\n",
    "    return(as.numeric(paste(number, collapse=\"\")))\n",
    "    }\n",
    "\n",
    "sprintf(\"Il primo numero casuale estratto dal seed %i è %i\", n, randomnumber(n))"
   ]
  },
  {
   "cell_type": "code",
   "execution_count": 225,
   "metadata": {},
   "outputs": [
    {
     "data": {
      "text/html": [
       "'Il primo numero casuale estratto dal seed 1234 è 5227'"
      ],
      "text/latex": [
       "'Il primo numero casuale estratto dal seed 1234 è 5227'"
      ],
      "text/markdown": [
       "'Il primo numero casuale estratto dal seed 1234 è 5227'"
      ],
      "text/plain": [
       "[1] \"Il primo numero casuale estratto dal seed 1234 è 5227\""
      ]
     },
     "metadata": {},
     "output_type": "display_data"
    }
   ],
   "source": [
    "# sfrutto alcune funzioni di approssimazione di R come floor e le divisioni per le potenze di dieci \n",
    "\n",
    "n2 <- 1234\n",
    "\n",
    "randomnumber1 <- function(n){\n",
    "    number2 <- n2**2\n",
    "    len2 <- lenseed(n2)\n",
    "    number2.without.last <- floor(number2/(10^(len2/2)))\n",
    "    # adesso devo eliminare le most significant digits del numero fino ad ottenerne soltanto uno con quattro cifre, quante len1. Per farlo \n",
    "    # applichiamo nuovamente il metodo precedente: dividiamo per 10^len1 e prendiamo il floor, poi moltiplichiamo di nuovo per 10^d e sottraiamo\n",
    "    # quanto ottenuto al risultato precedente \n",
    "\n",
    "    number2 <- number2.without.last - floor(number2.without.last/10^len2)*10^len2\n",
    "    return(number2)\n",
    "    }\n",
    "\n",
    "sprintf(\"Il primo numero casuale estratto dal seed %i è %i\", n2, randomnumber(n2))"
   ]
  },
  {
   "cell_type": "code",
   "execution_count": null,
   "metadata": {},
   "outputs": [],
   "source": []
  }
 ],
 "metadata": {
  "kernelspec": {
   "display_name": "R",
   "language": "R",
   "name": "ir"
  },
  "language_info": {
   "codemirror_mode": "r",
   "file_extension": ".r",
   "mimetype": "text/x-r-source",
   "name": "R",
   "pygments_lexer": "r",
   "version": "4.0.4"
  }
 },
 "nbformat": 4,
 "nbformat_minor": 5
}
