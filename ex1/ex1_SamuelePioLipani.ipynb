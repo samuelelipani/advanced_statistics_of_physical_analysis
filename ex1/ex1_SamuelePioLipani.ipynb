{
 "cells": [
  {
   "cell_type": "markdown",
   "metadata": {},
   "source": [
    "## Exercise 1 - vectors and data frames"
   ]
  },
  {
   "cell_type": "code",
   "execution_count": 1,
   "metadata": {
    "ExecuteTime": {
     "end_time": "2021-03-31T20:25:31.008833Z",
     "start_time": "2021-03-31T20:25:30.990Z"
    }
   },
   "outputs": [
    {
     "name": "stderr",
     "output_type": "stream",
     "text": [
      "-- \u001b[1mAttaching packages\u001b[22m ------------------------------------------------------------------------------- tidyverse 1.3.0 --\n",
      "\n",
      "\u001b[32mv\u001b[39m \u001b[34mggplot2\u001b[39m 3.3.3     \u001b[32mv\u001b[39m \u001b[34mpurrr  \u001b[39m 0.3.4\n",
      "\u001b[32mv\u001b[39m \u001b[34mtibble \u001b[39m 3.1.0     \u001b[32mv\u001b[39m \u001b[34mdplyr  \u001b[39m 1.0.5\n",
      "\u001b[32mv\u001b[39m \u001b[34mtidyr  \u001b[39m 1.1.3     \u001b[32mv\u001b[39m \u001b[34mstringr\u001b[39m 1.4.0\n",
      "\u001b[32mv\u001b[39m \u001b[34mreadr  \u001b[39m 1.4.0     \u001b[32mv\u001b[39m \u001b[34mforcats\u001b[39m 0.5.1\n",
      "\n",
      "-- \u001b[1mConflicts\u001b[22m ---------------------------------------------------------------------------------- tidyverse_conflicts() --\n",
      "\u001b[31mx\u001b[39m \u001b[34mdplyr\u001b[39m::\u001b[32mfilter()\u001b[39m masks \u001b[34mstats\u001b[39m::filter()\n",
      "\u001b[31mx\u001b[39m \u001b[34mdplyr\u001b[39m::\u001b[32mlag()\u001b[39m    masks \u001b[34mstats\u001b[39m::lag()\n",
      "\n"
     ]
    }
   ],
   "source": [
    "library(htmltab)\n",
    "library(\"tidyverse\")"
   ]
  },
  {
   "cell_type": "code",
   "execution_count": 2,
   "metadata": {
    "ExecuteTime": {
     "end_time": "2021-03-31T20:25:32.041876Z",
     "start_time": "2021-03-31T20:25:31.475Z"
    },
    "scrolled": true
   },
   "outputs": [
    {
     "data": {
      "text/html": [
       "<table class=\"dataframe\">\n",
       "<caption>A data.frame: 13 × 6</caption>\n",
       "<thead>\n",
       "\t<tr><th></th><th scope=col>Loch</th><th scope=col>Volume</th><th scope=col>Area</th><th scope=col>Length</th><th scope=col>Max.depth</th><th scope=col>Mean depth</th></tr>\n",
       "\t<tr><th></th><th scope=col>&lt;chr&gt;</th><th scope=col>&lt;chr&gt;</th><th scope=col>&lt;chr&gt;</th><th scope=col>&lt;chr&gt;</th><th scope=col>&lt;chr&gt;</th><th scope=col>&lt;chr&gt;</th></tr>\n",
       "</thead>\n",
       "<tbody>\n",
       "\t<tr><th scope=row>2</th><td>Loch Ness   </td><td>7.45</td><td>56  </td><td>39  </td><td>230</td><td>132 </td></tr>\n",
       "\t<tr><th scope=row>3</th><td>Loch Lomond </td><td>2.6 </td><td>71  </td><td>36  </td><td>190</td><td>37  </td></tr>\n",
       "\t<tr><th scope=row>4</th><td>Loch Morar  </td><td>2.3 </td><td>27  </td><td>18.8</td><td>310</td><td>87  </td></tr>\n",
       "\t<tr><th scope=row>5</th><td>Loch Tay    </td><td>1.6 </td><td>26.4</td><td>23  </td><td>150</td><td>60.6</td></tr>\n",
       "\t<tr><th scope=row>6</th><td>Loch Awe    </td><td>1.2 </td><td>39  </td><td>41  </td><td>94 </td><td>32  </td></tr>\n",
       "\t<tr><th scope=row>7</th><td>Loch Maree  </td><td>1.09</td><td>28.6</td><td>20  </td><td>114</td><td>38  </td></tr>\n",
       "\t<tr><th scope=row>8</th><td>Loch Ericht </td><td>1.08</td><td>18.6</td><td>23  </td><td>156</td><td>57.6</td></tr>\n",
       "\t<tr><th scope=row>9</th><td>Loch Lochy  </td><td>1.07</td><td>16  </td><td>16  </td><td>162</td><td>70  </td></tr>\n",
       "\t<tr><th scope=row>10</th><td>Loch Rannoch</td><td>0.97</td><td>19  </td><td>15.7</td><td>134</td><td>51  </td></tr>\n",
       "\t<tr><th scope=row>11</th><td>Loch Shiel  </td><td>0.79</td><td>19.5</td><td>28  </td><td>128</td><td>40  </td></tr>\n",
       "\t<tr><th scope=row>12</th><td>Loch Katrine</td><td>0.77</td><td>12.4</td><td>12.9</td><td>151</td><td>43.4</td></tr>\n",
       "\t<tr><th scope=row>13</th><td>Loch Arkaig </td><td>0.75</td><td>16  </td><td>19.3</td><td>109</td><td>46.5</td></tr>\n",
       "\t<tr><th scope=row>14</th><td>Loch Shin   </td><td>0.35</td><td>22.5</td><td>27.8</td><td>49 </td><td>15.5</td></tr>\n",
       "</tbody>\n",
       "</table>\n"
      ],
      "text/latex": [
       "A data.frame: 13 × 6\n",
       "\\begin{tabular}{r|llllll}\n",
       "  & Loch & Volume & Area & Length & Max.depth & Mean depth\\\\\n",
       "  & <chr> & <chr> & <chr> & <chr> & <chr> & <chr>\\\\\n",
       "\\hline\n",
       "\t2 & Loch Ness    & 7.45 & 56   & 39   & 230 & 132 \\\\\n",
       "\t3 & Loch Lomond  & 2.6  & 71   & 36   & 190 & 37  \\\\\n",
       "\t4 & Loch Morar   & 2.3  & 27   & 18.8 & 310 & 87  \\\\\n",
       "\t5 & Loch Tay     & 1.6  & 26.4 & 23   & 150 & 60.6\\\\\n",
       "\t6 & Loch Awe     & 1.2  & 39   & 41   & 94  & 32  \\\\\n",
       "\t7 & Loch Maree   & 1.09 & 28.6 & 20   & 114 & 38  \\\\\n",
       "\t8 & Loch Ericht  & 1.08 & 18.6 & 23   & 156 & 57.6\\\\\n",
       "\t9 & Loch Lochy   & 1.07 & 16   & 16   & 162 & 70  \\\\\n",
       "\t10 & Loch Rannoch & 0.97 & 19   & 15.7 & 134 & 51  \\\\\n",
       "\t11 & Loch Shiel   & 0.79 & 19.5 & 28   & 128 & 40  \\\\\n",
       "\t12 & Loch Katrine & 0.77 & 12.4 & 12.9 & 151 & 43.4\\\\\n",
       "\t13 & Loch Arkaig  & 0.75 & 16   & 19.3 & 109 & 46.5\\\\\n",
       "\t14 & Loch Shin    & 0.35 & 22.5 & 27.8 & 49  & 15.5\\\\\n",
       "\\end{tabular}\n"
      ],
      "text/markdown": [
       "\n",
       "A data.frame: 13 × 6\n",
       "\n",
       "| <!--/--> | Loch &lt;chr&gt; | Volume &lt;chr&gt; | Area &lt;chr&gt; | Length &lt;chr&gt; | Max.depth &lt;chr&gt; | Mean depth &lt;chr&gt; |\n",
       "|---|---|---|---|---|---|---|\n",
       "| 2 | Loch Ness    | 7.45 | 56   | 39   | 230 | 132  |\n",
       "| 3 | Loch Lomond  | 2.6  | 71   | 36   | 190 | 37   |\n",
       "| 4 | Loch Morar   | 2.3  | 27   | 18.8 | 310 | 87   |\n",
       "| 5 | Loch Tay     | 1.6  | 26.4 | 23   | 150 | 60.6 |\n",
       "| 6 | Loch Awe     | 1.2  | 39   | 41   | 94  | 32   |\n",
       "| 7 | Loch Maree   | 1.09 | 28.6 | 20   | 114 | 38   |\n",
       "| 8 | Loch Ericht  | 1.08 | 18.6 | 23   | 156 | 57.6 |\n",
       "| 9 | Loch Lochy   | 1.07 | 16   | 16   | 162 | 70   |\n",
       "| 10 | Loch Rannoch | 0.97 | 19   | 15.7 | 134 | 51   |\n",
       "| 11 | Loch Shiel   | 0.79 | 19.5 | 28   | 128 | 40   |\n",
       "| 12 | Loch Katrine | 0.77 | 12.4 | 12.9 | 151 | 43.4 |\n",
       "| 13 | Loch Arkaig  | 0.75 | 16   | 19.3 | 109 | 46.5 |\n",
       "| 14 | Loch Shin    | 0.35 | 22.5 | 27.8 | 49  | 15.5 |\n",
       "\n"
      ],
      "text/plain": [
       "   Loch         Volume Area Length Max.depth Mean depth\n",
       "2  Loch Ness    7.45   56   39     230       132       \n",
       "3  Loch Lomond  2.6    71   36     190       37        \n",
       "4  Loch Morar   2.3    27   18.8   310       87        \n",
       "5  Loch Tay     1.6    26.4 23     150       60.6      \n",
       "6  Loch Awe     1.2    39   41     94        32        \n",
       "7  Loch Maree   1.09   28.6 20     114       38        \n",
       "8  Loch Ericht  1.08   18.6 23     156       57.6      \n",
       "9  Loch Lochy   1.07   16   16     162       70        \n",
       "10 Loch Rannoch 0.97   19   15.7   134       51        \n",
       "11 Loch Shiel   0.79   19.5 28     128       40        \n",
       "12 Loch Katrine 0.77   12.4 12.9   151       43.4      \n",
       "13 Loch Arkaig  0.75   16   19.3   109       46.5      \n",
       "14 Loch Shin    0.35   22.5 27.8   49        15.5      "
      ]
     },
     "metadata": {},
     "output_type": "display_data"
    }
   ],
   "source": [
    "# tramite questa libreria sono in grado di scaricare una tabella da un url e convertirla direttamente in un dataframe\n",
    "# ciò che ottengo però sono series di chr type elements dovrò pertanto convertirli in tipi numerici\n",
    "\n",
    "scottish.lakes <- htmltab(\"https://en.wikipedia.org/wiki/List_of_lochs_of_Scotland\",1)\n",
    "names <- list(\"Loch\",\"Volume\",\"Area\",\"Length\",\"Max.depth\",\"Mean depth\")\n",
    "for (i in (1:length(names))){\n",
    "    colnames(scottish.lakes)[i] <- names[i]\n",
    "}\n",
    "\n",
    "scottish.lakes"
   ]
  },
  {
   "cell_type": "code",
   "execution_count": 3,
   "metadata": {
    "ExecuteTime": {
     "end_time": "2021-03-31T20:25:33.369132Z",
     "start_time": "2021-03-31T20:25:33.349Z"
    }
   },
   "outputs": [
    {
     "data": {
      "text/html": [
       "<style>\n",
       ".dl-inline {width: auto; margin:0; padding: 0}\n",
       ".dl-inline>dt, .dl-inline>dd {float: none; width: auto; display: inline-block}\n",
       ".dl-inline>dt::after {content: \":\\0020\"; padding-right: .5ex}\n",
       ".dl-inline>dt:not(:first-of-type) {padding-left: .5ex}\n",
       "</style><dl class=dl-inline><dt>Loch</dt><dd>'character'</dd><dt>Volume</dt><dd>'character'</dd><dt>Area</dt><dd>'character'</dd><dt>Length</dt><dd>'character'</dd><dt>Max.depth</dt><dd>'character'</dd><dt>Mean depth</dt><dd>'character'</dd></dl>\n"
      ],
      "text/latex": [
       "\\begin{description*}\n",
       "\\item[Loch] 'character'\n",
       "\\item[Volume] 'character'\n",
       "\\item[Area] 'character'\n",
       "\\item[Length] 'character'\n",
       "\\item[Max.depth] 'character'\n",
       "\\item[Mean depth] 'character'\n",
       "\\end{description*}\n"
      ],
      "text/markdown": [
       "Loch\n",
       ":   'character'Volume\n",
       ":   'character'Area\n",
       ":   'character'Length\n",
       ":   'character'Max.depth\n",
       ":   'character'Mean depth\n",
       ":   'character'\n",
       "\n"
      ],
      "text/plain": [
       "       Loch      Volume        Area      Length   Max.depth  Mean depth \n",
       "\"character\" \"character\" \"character\" \"character\" \"character\" \"character\" "
      ]
     },
     "metadata": {},
     "output_type": "display_data"
    }
   ],
   "source": [
    "# tramite la funzione sapply chiedo al dataframe quale sia la classe delle colonne \n",
    "# il problema adesso è che ho dei char e non dei tipi numerici perchè di default nelle tabelle di wikipedia \n",
    "# viene usato come separatore per ogni valore il \"tab\" che rende char ciò che dovrebbe essere un numero \n",
    " \n",
    "sapply(scottish.lakes, class)"
   ]
  },
  {
   "cell_type": "code",
   "execution_count": 4,
   "metadata": {
    "ExecuteTime": {
     "end_time": "2021-03-31T20:28:08.523408Z",
     "start_time": "2021-03-31T20:28:08.492Z"
    }
   },
   "outputs": [
    {
     "data": {
      "text/html": [
       "<table class=\"dataframe\">\n",
       "<caption>A data.frame: 13 × 6</caption>\n",
       "<thead>\n",
       "\t<tr><th></th><th scope=col>Loch</th><th scope=col>Volume</th><th scope=col>Area</th><th scope=col>Length</th><th scope=col>Max.depth</th><th scope=col>Mean depth</th></tr>\n",
       "\t<tr><th></th><th scope=col>&lt;chr&gt;</th><th scope=col>&lt;dbl&gt;</th><th scope=col>&lt;dbl&gt;</th><th scope=col>&lt;dbl&gt;</th><th scope=col>&lt;int[,1]&gt;</th><th scope=col>&lt;dbl&gt;</th></tr>\n",
       "</thead>\n",
       "<tbody>\n",
       "\t<tr><th scope=row>2</th><td>Loch Ness   </td><td>7.45</td><td>56.0</td><td>39.0</td><td>230</td><td>132.0</td></tr>\n",
       "\t<tr><th scope=row>3</th><td>Loch Lomond </td><td>2.60</td><td>71.0</td><td>36.0</td><td>190</td><td> 37.0</td></tr>\n",
       "\t<tr><th scope=row>4</th><td>Loch Morar  </td><td>2.30</td><td>27.0</td><td>18.8</td><td>310</td><td> 87.0</td></tr>\n",
       "\t<tr><th scope=row>5</th><td>Loch Tay    </td><td>1.60</td><td>26.4</td><td>23.0</td><td>150</td><td> 60.6</td></tr>\n",
       "\t<tr><th scope=row>6</th><td>Loch Awe    </td><td>1.20</td><td>39.0</td><td>41.0</td><td> 94</td><td> 32.0</td></tr>\n",
       "\t<tr><th scope=row>7</th><td>Loch Maree  </td><td>1.09</td><td>28.6</td><td>20.0</td><td>114</td><td> 38.0</td></tr>\n",
       "\t<tr><th scope=row>8</th><td>Loch Ericht </td><td>1.08</td><td>18.6</td><td>23.0</td><td>156</td><td> 57.6</td></tr>\n",
       "\t<tr><th scope=row>9</th><td>Loch Lochy  </td><td>1.07</td><td>16.0</td><td>16.0</td><td>162</td><td> 70.0</td></tr>\n",
       "\t<tr><th scope=row>10</th><td>Loch Rannoch</td><td>0.97</td><td>19.0</td><td>15.7</td><td>134</td><td> 51.0</td></tr>\n",
       "\t<tr><th scope=row>11</th><td>Loch Shiel  </td><td>0.79</td><td>19.5</td><td>28.0</td><td>128</td><td> 40.0</td></tr>\n",
       "\t<tr><th scope=row>12</th><td>Loch Katrine</td><td>0.77</td><td>12.4</td><td>12.9</td><td>151</td><td> 43.4</td></tr>\n",
       "\t<tr><th scope=row>13</th><td>Loch Arkaig </td><td>0.75</td><td>16.0</td><td>19.3</td><td>109</td><td> 46.5</td></tr>\n",
       "\t<tr><th scope=row>14</th><td>Loch Shin   </td><td>0.35</td><td>22.5</td><td>27.8</td><td> 49</td><td> 15.5</td></tr>\n",
       "</tbody>\n",
       "</table>\n"
      ],
      "text/latex": [
       "A data.frame: 13 × 6\n",
       "\\begin{tabular}{r|llllll}\n",
       "  & Loch & Volume & Area & Length & Max.depth & Mean depth\\\\\n",
       "  & <chr> & <dbl> & <dbl> & <dbl> & <int{[},1{]}> & <dbl>\\\\\n",
       "\\hline\n",
       "\t2 & Loch Ness    & 7.45 & 56.0 & 39.0 & 230 & 132.0\\\\\n",
       "\t3 & Loch Lomond  & 2.60 & 71.0 & 36.0 & 190 &  37.0\\\\\n",
       "\t4 & Loch Morar   & 2.30 & 27.0 & 18.8 & 310 &  87.0\\\\\n",
       "\t5 & Loch Tay     & 1.60 & 26.4 & 23.0 & 150 &  60.6\\\\\n",
       "\t6 & Loch Awe     & 1.20 & 39.0 & 41.0 &  94 &  32.0\\\\\n",
       "\t7 & Loch Maree   & 1.09 & 28.6 & 20.0 & 114 &  38.0\\\\\n",
       "\t8 & Loch Ericht  & 1.08 & 18.6 & 23.0 & 156 &  57.6\\\\\n",
       "\t9 & Loch Lochy   & 1.07 & 16.0 & 16.0 & 162 &  70.0\\\\\n",
       "\t10 & Loch Rannoch & 0.97 & 19.0 & 15.7 & 134 &  51.0\\\\\n",
       "\t11 & Loch Shiel   & 0.79 & 19.5 & 28.0 & 128 &  40.0\\\\\n",
       "\t12 & Loch Katrine & 0.77 & 12.4 & 12.9 & 151 &  43.4\\\\\n",
       "\t13 & Loch Arkaig  & 0.75 & 16.0 & 19.3 & 109 &  46.5\\\\\n",
       "\t14 & Loch Shin    & 0.35 & 22.5 & 27.8 &  49 &  15.5\\\\\n",
       "\\end{tabular}\n"
      ],
      "text/markdown": [
       "\n",
       "A data.frame: 13 × 6\n",
       "\n",
       "| <!--/--> | Loch &lt;chr&gt; | Volume &lt;dbl&gt; | Area &lt;dbl&gt; | Length &lt;dbl&gt; | Max.depth &lt;int[,1]&gt; | Mean depth &lt;dbl&gt; |\n",
       "|---|---|---|---|---|---|---|\n",
       "| 2 | Loch Ness    | 7.45 | 56.0 | 39.0 | 230 | 132.0 |\n",
       "| 3 | Loch Lomond  | 2.60 | 71.0 | 36.0 | 190 |  37.0 |\n",
       "| 4 | Loch Morar   | 2.30 | 27.0 | 18.8 | 310 |  87.0 |\n",
       "| 5 | Loch Tay     | 1.60 | 26.4 | 23.0 | 150 |  60.6 |\n",
       "| 6 | Loch Awe     | 1.20 | 39.0 | 41.0 |  94 |  32.0 |\n",
       "| 7 | Loch Maree   | 1.09 | 28.6 | 20.0 | 114 |  38.0 |\n",
       "| 8 | Loch Ericht  | 1.08 | 18.6 | 23.0 | 156 |  57.6 |\n",
       "| 9 | Loch Lochy   | 1.07 | 16.0 | 16.0 | 162 |  70.0 |\n",
       "| 10 | Loch Rannoch | 0.97 | 19.0 | 15.7 | 134 |  51.0 |\n",
       "| 11 | Loch Shiel   | 0.79 | 19.5 | 28.0 | 128 |  40.0 |\n",
       "| 12 | Loch Katrine | 0.77 | 12.4 | 12.9 | 151 |  43.4 |\n",
       "| 13 | Loch Arkaig  | 0.75 | 16.0 | 19.3 | 109 |  46.5 |\n",
       "| 14 | Loch Shin    | 0.35 | 22.5 | 27.8 |  49 |  15.5 |\n",
       "\n"
      ],
      "text/plain": [
       "   Loch         Volume Area Length Max.depth Mean depth\n",
       "2  Loch Ness    7.45   56.0 39.0   230       132.0     \n",
       "3  Loch Lomond  2.60   71.0 36.0   190        37.0     \n",
       "4  Loch Morar   2.30   27.0 18.8   310        87.0     \n",
       "5  Loch Tay     1.60   26.4 23.0   150        60.6     \n",
       "6  Loch Awe     1.20   39.0 41.0    94        32.0     \n",
       "7  Loch Maree   1.09   28.6 20.0   114        38.0     \n",
       "8  Loch Ericht  1.08   18.6 23.0   156        57.6     \n",
       "9  Loch Lochy   1.07   16.0 16.0   162        70.0     \n",
       "10 Loch Rannoch 0.97   19.0 15.7   134        51.0     \n",
       "11 Loch Shiel   0.79   19.5 28.0   128        40.0     \n",
       "12 Loch Katrine 0.77   12.4 12.9   151        43.4     \n",
       "13 Loch Arkaig  0.75   16.0 19.3   109        46.5     \n",
       "14 Loch Shin    0.35   22.5 27.8    49        15.5     "
      ]
     },
     "metadata": {},
     "output_type": "display_data"
    }
   ],
   "source": [
    "# in questo modo cambio il tipo di ogni colonna in dbl tranne la prima ([-1]) utilizzando una logical mask\n",
    "\n",
    "scottish.lakes[names(scottish.lakes)[-1]] <- sapply(scottish.lakes[names(scottish.lakes)[-1]], as.numeric)\n",
    "scottish.lakes[\"Max.depth\"] <- sapply(scottish.lakes[\"Max.depth\"], as.integer)\n",
    "\n",
    "# inoltre poichè la colonna max.depth è costituita soltanto da interi la casto ad int\n",
    "scottish.lakes"
   ]
  },
  {
   "cell_type": "code",
   "execution_count": 5,
   "metadata": {
    "ExecuteTime": {
     "end_time": "2021-03-31T20:41:47.763954Z",
     "start_time": "2021-03-31T20:41:47.742Z"
    }
   },
   "outputs": [
    {
     "name": "stdout",
     "output_type": "stream",
     "text": [
      "[1] \"The minimum and maximum area are 12.4 km^2 and 71 km^2\"\n",
      "[1] \"The minimum and maximum volume are 0.35 km^3 and 7.45 km^3\"\n"
     ]
    }
   ],
   "source": [
    "# poichè la funzione paste trasforma ciò che le viene dato in string character e la funzione print stampa a schermo soltanto le stringhe \n",
    "# utilizzo insieme le due per stampare quali siano l'area e il volume più grande dei laghi nel dataframe\n",
    "\n",
    "print(paste0(\"The minimum and maximum area are \",min(scottish.lakes[\"Area\"]), \" km^2 and \",max(scottish.lakes[\"Area\"]), \" km^2\"))\n",
    "print(paste0(\"The minimum and maximum volume are \",min(scottish.lakes[\"Volume\"]), \" km^3 and \",max(scottish.lakes[\"Volume\"]), \" km^3\"))"
   ]
  },
  {
   "cell_type": "code",
   "execution_count": 6,
   "metadata": {
    "ExecuteTime": {
     "end_time": "2021-03-31T20:57:46.971857Z",
     "start_time": "2021-03-31T20:57:46.951Z"
    }
   },
   "outputs": [
    {
     "name": "stdout",
     "output_type": "stream",
     "text": [
      "[1] \"The two largest area lakes in the table are 71 km^2 and 56 km^2\"\n"
     ]
    }
   ],
   "source": [
    "# utilizzo la funzione order che come argomento di un dataframe fa in modo che questo si riorganizzi ordinando in modo ascendente \n",
    "# o discendente (in base al segno dell'argomento di order ad esempio) una colonna ben precisa in questo caso scottish.lakes$Area\n",
    "\n",
    "scottish.lakes <- scottish.lakes[order(-scottish.lakes$Area),]\n",
    "print(paste0(\"The two largest area lakes in the table are \",scottish.lakes$Area[1],\" km^2 and \",scottish.lakes$Area[2],\" km^2\"))\n"
   ]
  },
  {
   "cell_type": "code",
   "execution_count": 7,
   "metadata": {
    "ExecuteTime": {
     "end_time": "2021-03-31T20:59:13.597735Z",
     "start_time": "2021-03-31T20:59:13.576Z"
    }
   },
   "outputs": [
    {
     "name": "stdout",
     "output_type": "stream",
     "text": [
      "[1] \"The total area covered by all lakes is 372 km^2\"\n"
     ]
    }
   ],
   "source": [
    "print(paste0(\"The total area covered by all lakes is \",sum(scottish.lakes$Area),\" km^2\"))"
   ]
  },
  {
   "cell_type": "markdown",
   "metadata": {
    "ExecuteTime": {
     "end_time": "2021-03-31T20:54:34.728953Z",
     "start_time": "2021-03-31T20:54:34.599Z"
    }
   },
   "source": [
    "## Exercise 2 - Crude Oil Production"
   ]
  },
  {
   "cell_type": "code",
   "execution_count": 8,
   "metadata": {
    "ExecuteTime": {
     "end_time": "2021-03-31T21:18:21.164656Z",
     "start_time": "2021-03-31T21:18:20.521Z"
    }
   },
   "outputs": [
    {
     "data": {
      "text/html": [
       "<table class=\"dataframe\">\n",
       "<caption>A data.frame: 6 × 4</caption>\n",
       "<thead>\n",
       "\t<tr><th></th><th scope=col>Entity</th><th scope=col>Code</th><th scope=col>Year</th><th scope=col>OilPrice</th></tr>\n",
       "\t<tr><th></th><th scope=col>&lt;chr&gt;</th><th scope=col>&lt;chr&gt;</th><th scope=col>&lt;int&gt;</th><th scope=col>&lt;dbl&gt;</th></tr>\n",
       "</thead>\n",
       "<tbody>\n",
       "\t<tr><th scope=row>1</th><td>World</td><td>OWID_WRL</td><td>1861</td><td>0.49</td></tr>\n",
       "\t<tr><th scope=row>2</th><td>World</td><td>OWID_WRL</td><td>1862</td><td>1.05</td></tr>\n",
       "\t<tr><th scope=row>3</th><td>World</td><td>OWID_WRL</td><td>1863</td><td>3.15</td></tr>\n",
       "\t<tr><th scope=row>4</th><td>World</td><td>OWID_WRL</td><td>1864</td><td>8.06</td></tr>\n",
       "\t<tr><th scope=row>5</th><td>World</td><td>OWID_WRL</td><td>1865</td><td>6.59</td></tr>\n",
       "\t<tr><th scope=row>6</th><td>World</td><td>OWID_WRL</td><td>1866</td><td>3.74</td></tr>\n",
       "</tbody>\n",
       "</table>\n"
      ],
      "text/latex": [
       "A data.frame: 6 × 4\n",
       "\\begin{tabular}{r|llll}\n",
       "  & Entity & Code & Year & OilPrice\\\\\n",
       "  & <chr> & <chr> & <int> & <dbl>\\\\\n",
       "\\hline\n",
       "\t1 & World & OWID\\_WRL & 1861 & 0.49\\\\\n",
       "\t2 & World & OWID\\_WRL & 1862 & 1.05\\\\\n",
       "\t3 & World & OWID\\_WRL & 1863 & 3.15\\\\\n",
       "\t4 & World & OWID\\_WRL & 1864 & 8.06\\\\\n",
       "\t5 & World & OWID\\_WRL & 1865 & 6.59\\\\\n",
       "\t6 & World & OWID\\_WRL & 1866 & 3.74\\\\\n",
       "\\end{tabular}\n"
      ],
      "text/markdown": [
       "\n",
       "A data.frame: 6 × 4\n",
       "\n",
       "| <!--/--> | Entity &lt;chr&gt; | Code &lt;chr&gt; | Year &lt;int&gt; | OilPrice &lt;dbl&gt; |\n",
       "|---|---|---|---|---|\n",
       "| 1 | World | OWID_WRL | 1861 | 0.49 |\n",
       "| 2 | World | OWID_WRL | 1862 | 1.05 |\n",
       "| 3 | World | OWID_WRL | 1863 | 3.15 |\n",
       "| 4 | World | OWID_WRL | 1864 | 8.06 |\n",
       "| 5 | World | OWID_WRL | 1865 | 6.59 |\n",
       "| 6 | World | OWID_WRL | 1866 | 3.74 |\n",
       "\n"
      ],
      "text/plain": [
       "  Entity Code     Year OilPrice\n",
       "1 World  OWID_WRL 1861 0.49    \n",
       "2 World  OWID_WRL 1862 1.05    \n",
       "3 World  OWID_WRL 1863 3.15    \n",
       "4 World  OWID_WRL 1864 8.06    \n",
       "5 World  OWID_WRL 1865 6.59    \n",
       "6 World  OWID_WRL 1866 3.74    "
      ]
     },
     "metadata": {},
     "output_type": "display_data"
    }
   ],
   "source": [
    "# il file csv da importare, se aperto con un editor di testo permette di osservare che il separator utilizzato è la virgola\n",
    "\n",
    "url <- \"https://drive.google.com/u/0/uc?id=1cUQ8d0kDOw2lmzMAHIPglpdcnHy4GgF3&export=download\"\n",
    "oildf <- read.csv(url, skip=1) # skip uguale a uno serve per saltare nella memorizzazione del dataframe la prima riga \n",
    "\n",
    "# dall'ultima parola del link del csv di google drive si deduce che si possiedono soltanto i permessi di vedere il file e non modificarlo\n",
    "# allora per usare read.csv è necessario un url che inidirizzi direttamente al file oppure al download dello stesso. Cambiando /view \n",
    "# in $export=download si fa in modo che R legga direttamente il csv file scaricandolo\n",
    "\n",
    "head(oildf)"
   ]
  },
  {
   "cell_type": "code",
   "execution_count": 9,
   "metadata": {
    "ExecuteTime": {
     "end_time": "2021-03-31T21:30:26.058650Z",
     "start_time": "2021-03-31T21:30:26.004Z"
    }
   },
   "outputs": [
    {
     "data": {
      "image/png": "[encoded data removed]",
      "text/plain": [
       "Plot with title \"Oil price vs years\""
      ]
     },
     "metadata": {
      "image/png": {
       "height": 420,
       "width": 420
      }
     },
     "output_type": "display_data"
    }
   ],
   "source": [
    "# per costruire un plot si utilizza la funzione plot\n",
    "plot(oildf$Year,oildf$OilPrice, type=\"b\", main=\"Oil price vs years\", col=\"blue\")"
   ]
  },
  {
   "cell_type": "code",
   "execution_count": 10,
   "metadata": {
    "ExecuteTime": {
     "end_time": "2021-03-31T22:12:54.889264Z",
     "start_time": "2021-03-31T22:12:54.871Z"
    }
   },
   "outputs": [
    {
     "name": "stdout",
     "output_type": "stream",
     "text": [
      "[1] \"The year corresponding to the maximum oil price 111.669702380952 is 2012\"\n"
     ]
    }
   ],
   "source": [
    "# per conoscere quale sia il prezzo più alto del petrolio che sia mai stato registrato utilizzo la funzione max e \n",
    "# which per cercare l'indice corrispondente al prezzo massimo\n",
    "\n",
    "print(paste0(\"The year corresponding to the maximum oil price \",max(oildf$OilPrice),\" is \",oildf$Year[which.max(oildf$OilPrice)]))"
   ]
  },
  {
   "cell_type": "code",
   "execution_count": 11,
   "metadata": {
    "ExecuteTime": {
     "end_time": "2021-03-31T22:58:17.473093Z",
     "start_time": "2021-03-31T22:58:17.416Z"
    }
   },
   "outputs": [
    {
     "data": {
      "image/png": "[encoded data removed]",
      "text/plain": [
       "Plot with title \"Derivative of OilPrice function wrt to years\""
      ]
     },
     "metadata": {
      "image/png": {
       "height": 420,
       "width": 420
      }
     },
     "output_type": "display_data"
    }
   ],
   "source": [
    "# per rappresentare la derivata numerica della funzione che descrive il prezzo del petrolio in funzione degli anni costruisco \n",
    "# un vettore di differenze a partire dalla colonna OilPrice del dataframe. Per definizione di derivata numerica dovrei dividere \n",
    "# ciascuna differenza per l'incremento dell'anno scelto come step che in questo caso è uno\n",
    "\n",
    "derivative <- c(0,diff(oildf$OilPrice)) \n",
    "# aggiungo uno zero al vettore in modo che la sua lunghezza combaci con quella del vettore degli anni\n",
    "\n",
    "plot(oildf$Year, derivative, main=\"Derivative of OilPrice function wrt to years\", type=\"b\", col=\"red\")"
   ]
  },
  {
   "cell_type": "markdown",
   "metadata": {},
   "source": [
    "## Exercise 3 - World Coal Production\n"
   ]
  },
  {
   "cell_type": "code",
   "execution_count": 12,
   "metadata": {},
   "outputs": [
    {
     "name": "stderr",
     "output_type": "stream",
     "text": [
      "\n",
      "\u001b[36m--\u001b[39m \u001b[1m\u001b[1mColumn specification\u001b[1m\u001b[22m \u001b[36m------------------------------------------------------------------------------------------------\u001b[39m\n",
      "cols(\n",
      "  Entity = \u001b[31mcol_character()\u001b[39m,\n",
      "  Code = \u001b[31mcol_character()\u001b[39m,\n",
      "  Year = \u001b[32mcol_double()\u001b[39m,\n",
      "  `Coal production (TWh)` = \u001b[32mcol_double()\u001b[39m\n",
      ")\n",
      "\n",
      "\n"
     ]
    },
    {
     "data": {
      "text/html": [
       "<table class=\"dataframe\">\n",
       "<caption>A tibble: 6 × 4</caption>\n",
       "<thead>\n",
       "\t<tr><th scope=col>Entity</th><th scope=col>Code</th><th scope=col>Year</th><th scope=col>Coal production (TWh)</th></tr>\n",
       "\t<tr><th scope=col>&lt;chr&gt;</th><th scope=col>&lt;chr&gt;</th><th scope=col>&lt;dbl&gt;</th><th scope=col>&lt;dbl&gt;</th></tr>\n",
       "</thead>\n",
       "<tbody>\n",
       "\t<tr><td>Afghanistan</td><td>AFG</td><td>1900</td><td>0</td></tr>\n",
       "\t<tr><td>Afghanistan</td><td>AFG</td><td>1901</td><td>0</td></tr>\n",
       "\t<tr><td>Afghanistan</td><td>AFG</td><td>1902</td><td>0</td></tr>\n",
       "\t<tr><td>Afghanistan</td><td>AFG</td><td>1903</td><td>0</td></tr>\n",
       "\t<tr><td>Afghanistan</td><td>AFG</td><td>1904</td><td>0</td></tr>\n",
       "\t<tr><td>Afghanistan</td><td>AFG</td><td>1905</td><td>0</td></tr>\n",
       "</tbody>\n",
       "</table>\n"
      ],
      "text/latex": [
       "A tibble: 6 × 4\n",
       "\\begin{tabular}{llll}\n",
       " Entity & Code & Year & Coal production (TWh)\\\\\n",
       " <chr> & <chr> & <dbl> & <dbl>\\\\\n",
       "\\hline\n",
       "\t Afghanistan & AFG & 1900 & 0\\\\\n",
       "\t Afghanistan & AFG & 1901 & 0\\\\\n",
       "\t Afghanistan & AFG & 1902 & 0\\\\\n",
       "\t Afghanistan & AFG & 1903 & 0\\\\\n",
       "\t Afghanistan & AFG & 1904 & 0\\\\\n",
       "\t Afghanistan & AFG & 1905 & 0\\\\\n",
       "\\end{tabular}\n"
      ],
      "text/markdown": [
       "\n",
       "A tibble: 6 × 4\n",
       "\n",
       "| Entity &lt;chr&gt; | Code &lt;chr&gt; | Year &lt;dbl&gt; | Coal production (TWh) &lt;dbl&gt; |\n",
       "|---|---|---|---|\n",
       "| Afghanistan | AFG | 1900 | 0 |\n",
       "| Afghanistan | AFG | 1901 | 0 |\n",
       "| Afghanistan | AFG | 1902 | 0 |\n",
       "| Afghanistan | AFG | 1903 | 0 |\n",
       "| Afghanistan | AFG | 1904 | 0 |\n",
       "| Afghanistan | AFG | 1905 | 0 |\n",
       "\n"
      ],
      "text/plain": [
       "  Entity      Code Year Coal production (TWh)\n",
       "1 Afghanistan AFG  1900 0                    \n",
       "2 Afghanistan AFG  1901 0                    \n",
       "3 Afghanistan AFG  1902 0                    \n",
       "4 Afghanistan AFG  1903 0                    \n",
       "5 Afghanistan AFG  1904 0                    \n",
       "6 Afghanistan AFG  1905 0                    "
      ]
     },
     "metadata": {},
     "output_type": "display_data"
    }
   ],
   "source": [
    "# come nel precedente esercizio riscrivo l'url del csv che devo importare disponibile in view. Modifico \n",
    "# l'url in modo che dentro il notebook stesso R salvi il file e lo apra come csv memorizzandolo in un tibble\n",
    "\n",
    "url <- \"https://drive.google.com/u/0/uc?id=10kgRQGKEC81QoVW9kj8goNzzyLcT0xld&export=download\"\n",
    "coaldf <- read_csv(url)\n",
    "head(coaldf)"
   ]
  },
  {
   "cell_type": "code",
   "execution_count": 13,
   "metadata": {},
   "outputs": [],
   "source": [
    "# adesso è necessario applicare dei filtri al tibble. Prima di tutto bisogna selezionare le diverse nazioni,\n",
    "# per ciascuna attenzionare gli anni di produzione sucessivi al 1970. Infine bisogna costruire un bar plot\n",
    "# nel quale di ciascuna nazione si misura la produzione di carbone dopo il 1970 \n",
    "\n",
    "colnames(coaldf)[4] <- \"Coal.production\"\n",
    "#names(coaldf)[4] <- \"Coal.production\"ù\n",
    "\n",
    "# per rendere più semplice accedere all'ultima colonna in quanto inizialmente possedeva come caratteri \n",
    "# dei ticks ne cambio il nome, posso usare colnames() oppure names(). Le due funzioni differiscono dal\n",
    "# tipo di argomento che accettano, la prima oggetti a due dimensioni mentre la seconda qualsiasi R object"
   ]
  },
  {
   "cell_type": "code",
   "execution_count": 14,
   "metadata": {},
   "outputs": [
    {
     "data": {
      "text/html": [
       "<table class=\"dataframe\">\n",
       "<caption>A grouped_df: 6 × 2</caption>\n",
       "<thead>\n",
       "\t<tr><th scope=col>Entity</th><th scope=col>n</th></tr>\n",
       "\t<tr><th scope=col>&lt;chr&gt;</th><th scope=col>&lt;int&gt;</th></tr>\n",
       "</thead>\n",
       "<tbody>\n",
       "\t<tr><td>Afghanistan        </td><td>117</td></tr>\n",
       "\t<tr><td>Africa             </td><td>104</td></tr>\n",
       "\t<tr><td>Albania            </td><td>117</td></tr>\n",
       "\t<tr><td>Algeria            </td><td> 65</td></tr>\n",
       "\t<tr><td>American Samoa     </td><td> 37</td></tr>\n",
       "\t<tr><td>Antigua and Barbuda</td><td> 37</td></tr>\n",
       "</tbody>\n",
       "</table>\n"
      ],
      "text/latex": [
       "A grouped\\_df: 6 × 2\n",
       "\\begin{tabular}{ll}\n",
       " Entity & n\\\\\n",
       " <chr> & <int>\\\\\n",
       "\\hline\n",
       "\t Afghanistan         & 117\\\\\n",
       "\t Africa              & 104\\\\\n",
       "\t Albania             & 117\\\\\n",
       "\t Algeria             &  65\\\\\n",
       "\t American Samoa      &  37\\\\\n",
       "\t Antigua and Barbuda &  37\\\\\n",
       "\\end{tabular}\n"
      ],
      "text/markdown": [
       "\n",
       "A grouped_df: 6 × 2\n",
       "\n",
       "| Entity &lt;chr&gt; | n &lt;int&gt; |\n",
       "|---|---|\n",
       "| Afghanistan         | 117 |\n",
       "| Africa              | 104 |\n",
       "| Albania             | 117 |\n",
       "| Algeria             |  65 |\n",
       "| American Samoa      |  37 |\n",
       "| Antigua and Barbuda |  37 |\n",
       "\n"
      ],
      "text/plain": [
       "  Entity              n  \n",
       "1 Afghanistan         117\n",
       "2 Africa              104\n",
       "3 Albania             117\n",
       "4 Algeria              65\n",
       "5 American Samoa       37\n",
       "6 Antigua and Barbuda  37"
      ]
     },
     "metadata": {},
     "output_type": "display_data"
    }
   ],
   "source": [
    "coal.countries <- unique(coaldf$Entity)\n",
    "# innanzitutto mi preparo per il bar plot avente come etichette le nazioni che producono carbone. \n",
    "# tramite unique ritrovo i nomi dei paesi che compaiono almeno una volta nella colonna entity\n",
    "\n",
    "coaldf.countries <- coaldf %>% \n",
    "    filter(!is.na(Entity)) %>% \n",
    "    group_by(Entity) %>% \n",
    "    count()\n",
    "\n",
    "head(coaldf.countries)\n",
    "# mi accorgo che in realtà non serve nemmeno assergnare un vettore a parte per il numero di paesi \n",
    "# che compaiono nel dataframe. Come risultato di questo raggruppamento ottento un oggetto grouped_df"
   ]
  },
  {
   "cell_type": "code",
   "execution_count": 15,
   "metadata": {},
   "outputs": [
    {
     "name": "stdout",
     "output_type": "stream",
     "text": [
      "[1] \"The number of unique countries is 200\"\n"
     ]
    }
   ],
   "source": [
    "print(paste0(\"The number of unique countries is \",length(coal.countries)))"
   ]
  },
  {
   "cell_type": "markdown",
   "metadata": {},
   "source": [
    "## Barplot\n",
    "Adesso si può finalmente eseguire un barplot delle due colonne del dataframe ottenuto filtrando l'originale in funzione del numero di paesi che compaiono nei dati del tibble.\n",
    "\n",
    "Ho trovato due modi per costruire il bar plot. Il primo utilizza esplicitamente il dataframe creato nella cella precedente mentre il secondo sfrutta come argomento di barplot una table. Table è un oggetto che se chiamato come funzione sul dataframe iniziale rispetto alla colonna \"entity\" restituisce direttamente la frequenza dei nomi dei paesi nel dataframe affiancati dal nome stesso."
   ]
  },
  {
   "cell_type": "code",
   "execution_count": 16,
   "metadata": {},
   "outputs": [
    {
     "data": {
      "image/png": "[encoded data removed]",
      "text/plain": [
       "Plot with title \"Frequency of countries in dataframe\""
      ]
     },
     "metadata": {
      "image/png": {
       "height": 420,
       "width": 420
      }
     },
     "output_type": "display_data"
    }
   ],
   "source": [
    "barplot(height = coaldf.countries$n, names = coaldf.countries$Entity, col = \"lightblue\")\n",
    "title(\"Frequency of countries in dataframe\")"
   ]
  },
  {
   "cell_type": "markdown",
   "metadata": {},
   "source": [
    "Oppure utilizzando \"table\" si osserva:"
   ]
  },
  {
   "cell_type": "code",
   "execution_count": 17,
   "metadata": {},
   "outputs": [
    {
     "data": {
      "image/png": "[encoded data removed]",
      "text/plain": [
       "Plot with title \"Frequency of countries in dataframe\""
      ]
     },
     "metadata": {
      "image/png": {
       "height": 420,
       "width": 420
      }
     },
     "output_type": "display_data"
    }
   ],
   "source": [
    "table.coal <- table(coaldf$Entity)\n",
    "barplot(table.coal, col = \"lightblue\")\n",
    "title(\"Frequency of countries in dataframe\")"
   ]
  },
  {
   "cell_type": "markdown",
   "metadata": {},
   "source": [
    "## Produzione di carbone per ciascun paese dal 1970"
   ]
  },
  {
   "cell_type": "code",
   "execution_count": 18,
   "metadata": {},
   "outputs": [],
   "source": [
    "coaldf.year <- filter(coaldf, Year >= 1970)\n",
    "# prima di contare la coal.production per ciascun paese filtro il tibble selezionando gli anni maggiori \n",
    "# o uguali di 1970"
   ]
  },
  {
   "cell_type": "code",
   "execution_count": 19,
   "metadata": {},
   "outputs": [],
   "source": [
    "coalsumdf <- aggregate(coaldf.year$Coal.production, by = list(Entity = coaldf.year$Entity), FUN = sum)\n",
    "# la funzione che meglio mi permette di raggruppare i dati per nazione e sommare direttamente per \n",
    "# ciascuno rispetto alla colonna coal.production è aggregate().\n",
    "# Dalla documentazione si osservano come argomenti: il primo rappresenta il dataframe da utilizzare \n",
    "# rispetto a cui raggruppare i dati ed applicare row wise l'operazione nell'argomento FUN, il secondo \"by\"\n",
    "# invece corrisponde a quello che in python era utilizzato come unico argomento del metodo groupby([])"
   ]
  },
  {
   "cell_type": "code",
   "execution_count": 20,
   "metadata": {},
   "outputs": [
    {
     "name": "stdout",
     "output_type": "stream",
     "text": [
      "[1] \"The five best countries that produce coal are \"\n",
      "[2] \"Asia Pacific\"                                  \n",
      "[3] \"Asia and Oceania\"                              \n",
      "[4] \"China\"                                         \n",
      "[5] \"OECD\"                                          \n",
      "[6] \"North America\"                                 \n"
     ]
    }
   ],
   "source": [
    "ordered.nations <- coalsumdf[order(coalsumdf$x, decreasing = TRUE),]$Entity[2:6]\n",
    "# la scrittura non è human readable dunque provo a spiegare cosa ho fatto in quest espressione da sinistra \n",
    "# verso destra:\n",
    "# assegno i nomi delle nazioni ad un vettore di characters. Per trovare quali sono i primi cinque paesi nel \n",
    "# mondo a produrre carbone: seleziono all'interno del dataframe, tramite la funzione order applicata sulla \n",
    "# colonna x restituendo un ordine decrescente, gli indici delle nazioni produttrici di carbone dalla \n",
    "# \"migliore\" alla \"peggiore\". La prima riga del dataframe corrisponde alla nazione \"world\" pertanto quando \n",
    "# seleziono in $entity le righe da salvare nel vettore di chr parto dall'indice 2 fino al 6.\n",
    "\n",
    "print(c(\"The five best countries that produce coal are \", ordered.nations))"
   ]
  },
  {
   "cell_type": "markdown",
   "metadata": {},
   "source": [
    "Adesso bisogna rappresentare la produzione di carbone di questi cinque paesi in funzione del tempo. Pertanto utilizzo, noti i nomi di queste nazioni, il dataframe iniziale in cui è presente l'evoluzione temporale della loro produzione di carbone."
   ]
  },
  {
   "cell_type": "code",
   "execution_count": 21,
   "metadata": {},
   "outputs": [
    {
     "data": {
      "image/png": "[encoded data removed]",
      "text/plain": [
       "plot without title"
      ]
     },
     "metadata": {
      "image/png": {
       "height": 420,
       "width": 420
      }
     },
     "output_type": "display_data"
    }
   ],
   "source": [
    "# Innanzitutto assegno ad un nuovo dataframe le righe di quello iniziale che corrispondono ai cinque paesi \n",
    "# che sono stati trovati come migliori produttori di carbone. \n",
    "# Posso utilizzare la funzione filter con \"in\" oppure direttamente un logical subsetting direttamente \n",
    "# delle righe.\n",
    "\n",
    "# filter(coaldf, Entity %in% coal.countries)\n",
    "coaldf.best.prod <- coaldf[coaldf$Entity %in% ordered.nations,]\n",
    "# utilizzo quindi un dataframe nuovo per plottare per ogni paese la usa produzione di carbone negli anni\n",
    "# perchè con ggplot se dovessi usare un ciclo for e rappresentare ogni volta la coal prod in funzione degli \n",
    "# anni a differenza di python l'oggetto risultante non viene graficato subito ma R lo esegue e rappresenta \n",
    "# ciò che rimane nell'ultimo ciclo \n",
    "\n",
    "g <- ggplot(data = coaldf.best.prod, aes(x = Year, y = Coal.production, col = Entity)) + geom_point() + geom_line()\n",
    "g"
   ]
  },
  {
   "cell_type": "markdown",
   "metadata": {},
   "source": [
    "Infine si chiede di rappresentare la somma cumulativa per ciascun anno rispetto ai precedenti della produzione di carbone nel mondo. Si osserva un trend crescente la cui pendenza, cioè proporzionale agli step che si aggiungono ogni anno, in questi ultimi anni tende ad un valore $\\approx$ costante."
   ]
  },
  {
   "cell_type": "code",
   "execution_count": 22,
   "metadata": {},
   "outputs": [
    {
     "data": {
      "image/png": "[encoded data removed]",
      "text/plain": [
       "plot without title"
      ]
     },
     "metadata": {
      "image/png": {
       "height": 420,
       "width": 420
      }
     },
     "output_type": "display_data"
    }
   ],
   "source": [
    "#coaldf.world <- coaldf[coaldf$Entity == \"World\",]\n",
    "coaldf.world <- filter(coaldf, coaldf$Entity == \"World\")\n",
    "coaldf.world[\"cumsum\"] <- cumsum(coaldf.world$Coal.production)\n",
    "\n",
    "g <- ggplot(data = coaldf.world, aes(x = Year, y = cumsum))\n",
    "g <- g + geom_point()\n",
    "g <- g + geom_line()\n",
    "g <- g + labs(x = \"Year\", y = \"Cuulative coal produced over years\")\n",
    "g <- g + ggtitle(\"Cumulative coal produced over time of the whole world\")\n",
    "g"
   ]
  },
  {
   "cell_type": "markdown",
   "metadata": {},
   "source": [
    "## Exercise 4 - Covid19 vaccine data"
   ]
  },
  {
   "cell_type": "code",
   "execution_count": 23,
   "metadata": {},
   "outputs": [
    {
     "name": "stderr",
     "output_type": "stream",
     "text": [
      "\n",
      "\u001b[36m--\u001b[39m \u001b[1m\u001b[1mColumn specification\u001b[1m\u001b[22m \u001b[36m------------------------------------------------------------------------------------------------\u001b[39m\n",
      "cols(\n",
      "  location = \u001b[31mcol_character()\u001b[39m,\n",
      "  date = \u001b[34mcol_date(format = \"\")\u001b[39m,\n",
      "  vaccine = \u001b[31mcol_character()\u001b[39m,\n",
      "  total_vaccinations = \u001b[32mcol_double()\u001b[39m\n",
      ")\n",
      "\n",
      "\n"
     ]
    },
    {
     "data": {
      "text/html": [
       "<table class=\"dataframe\">\n",
       "<caption>A tibble: 6 × 4</caption>\n",
       "<thead>\n",
       "\t<tr><th scope=col>location</th><th scope=col>date</th><th scope=col>vaccine</th><th scope=col>total_vaccinations</th></tr>\n",
       "\t<tr><th scope=col>&lt;chr&gt;</th><th scope=col>&lt;date&gt;</th><th scope=col>&lt;chr&gt;</th><th scope=col>&lt;dbl&gt;</th></tr>\n",
       "</thead>\n",
       "<tbody>\n",
       "\t<tr><td>Chile</td><td>2020-12-24</td><td>Pfizer/BioNTech</td><td> 420</td></tr>\n",
       "\t<tr><td>Chile</td><td>2020-12-25</td><td>Pfizer/BioNTech</td><td>5198</td></tr>\n",
       "\t<tr><td>Chile</td><td>2020-12-26</td><td>Pfizer/BioNTech</td><td>8338</td></tr>\n",
       "\t<tr><td>Chile</td><td>2020-12-27</td><td>Pfizer/BioNTech</td><td>8649</td></tr>\n",
       "\t<tr><td>Chile</td><td>2020-12-28</td><td>Pfizer/BioNTech</td><td>8649</td></tr>\n",
       "\t<tr><td>Chile</td><td>2020-12-29</td><td>Pfizer/BioNTech</td><td>8649</td></tr>\n",
       "</tbody>\n",
       "</table>\n"
      ],
      "text/latex": [
       "A tibble: 6 × 4\n",
       "\\begin{tabular}{llll}\n",
       " location & date & vaccine & total\\_vaccinations\\\\\n",
       " <chr> & <date> & <chr> & <dbl>\\\\\n",
       "\\hline\n",
       "\t Chile & 2020-12-24 & Pfizer/BioNTech &  420\\\\\n",
       "\t Chile & 2020-12-25 & Pfizer/BioNTech & 5198\\\\\n",
       "\t Chile & 2020-12-26 & Pfizer/BioNTech & 8338\\\\\n",
       "\t Chile & 2020-12-27 & Pfizer/BioNTech & 8649\\\\\n",
       "\t Chile & 2020-12-28 & Pfizer/BioNTech & 8649\\\\\n",
       "\t Chile & 2020-12-29 & Pfizer/BioNTech & 8649\\\\\n",
       "\\end{tabular}\n"
      ],
      "text/markdown": [
       "\n",
       "A tibble: 6 × 4\n",
       "\n",
       "| location &lt;chr&gt; | date &lt;date&gt; | vaccine &lt;chr&gt; | total_vaccinations &lt;dbl&gt; |\n",
       "|---|---|---|---|\n",
       "| Chile | 2020-12-24 | Pfizer/BioNTech |  420 |\n",
       "| Chile | 2020-12-25 | Pfizer/BioNTech | 5198 |\n",
       "| Chile | 2020-12-26 | Pfizer/BioNTech | 8338 |\n",
       "| Chile | 2020-12-27 | Pfizer/BioNTech | 8649 |\n",
       "| Chile | 2020-12-28 | Pfizer/BioNTech | 8649 |\n",
       "| Chile | 2020-12-29 | Pfizer/BioNTech | 8649 |\n",
       "\n"
      ],
      "text/plain": [
       "  location date       vaccine         total_vaccinations\n",
       "1 Chile    2020-12-24 Pfizer/BioNTech  420              \n",
       "2 Chile    2020-12-25 Pfizer/BioNTech 5198              \n",
       "3 Chile    2020-12-26 Pfizer/BioNTech 8338              \n",
       "4 Chile    2020-12-27 Pfizer/BioNTech 8649              \n",
       "5 Chile    2020-12-28 Pfizer/BioNTech 8649              \n",
       "6 Chile    2020-12-29 Pfizer/BioNTech 8649              "
      ]
     },
     "metadata": {},
     "output_type": "display_data"
    }
   ],
   "source": [
    "url <- \"https://raw.githubusercontent.com/owid/covid-19-data/master/public/data/vaccinations/vaccinations-by-manufacturer.csv\"\n",
    "covid.df <- read_csv(url)\n",
    "head(covid.df)\n",
    "\n",
    "# come è stato fatto fino ad ora a partire dall'url originale cambio l'ultima parte per renderlo leggibile \n",
    "# da R e assegnare i dati ad un tibble"
   ]
  },
  {
   "cell_type": "code",
   "execution_count": 24,
   "metadata": {},
   "outputs": [
    {
     "data": {
      "text/html": [
       "<table class=\"dataframe\">\n",
       "<caption>A tibble: 6 × 4</caption>\n",
       "<thead>\n",
       "\t<tr><th scope=col>location</th><th scope=col>date</th><th scope=col>vaccine</th><th scope=col>total_vaccinations</th></tr>\n",
       "\t<tr><th scope=col>&lt;chr&gt;</th><th scope=col>&lt;date&gt;</th><th scope=col>&lt;chr&gt;</th><th scope=col>&lt;dbl&gt;</th></tr>\n",
       "</thead>\n",
       "<tbody>\n",
       "\t<tr><td>Italy</td><td>2020-12-27</td><td>Pfizer/BioNTech</td><td> 7152</td></tr>\n",
       "\t<tr><td>Italy</td><td>2020-12-28</td><td>Pfizer/BioNTech</td><td> 8573</td></tr>\n",
       "\t<tr><td>Italy</td><td>2020-12-29</td><td>Pfizer/BioNTech</td><td> 9578</td></tr>\n",
       "\t<tr><td>Italy</td><td>2020-12-30</td><td>Pfizer/BioNTech</td><td>14304</td></tr>\n",
       "\t<tr><td>Italy</td><td>2020-12-31</td><td>Pfizer/BioNTech</td><td>39776</td></tr>\n",
       "\t<tr><td>Italy</td><td>2021-01-01</td><td>Pfizer/BioNTech</td><td>50827</td></tr>\n",
       "</tbody>\n",
       "</table>\n"
      ],
      "text/latex": [
       "A tibble: 6 × 4\n",
       "\\begin{tabular}{llll}\n",
       " location & date & vaccine & total\\_vaccinations\\\\\n",
       " <chr> & <date> & <chr> & <dbl>\\\\\n",
       "\\hline\n",
       "\t Italy & 2020-12-27 & Pfizer/BioNTech &  7152\\\\\n",
       "\t Italy & 2020-12-28 & Pfizer/BioNTech &  8573\\\\\n",
       "\t Italy & 2020-12-29 & Pfizer/BioNTech &  9578\\\\\n",
       "\t Italy & 2020-12-30 & Pfizer/BioNTech & 14304\\\\\n",
       "\t Italy & 2020-12-31 & Pfizer/BioNTech & 39776\\\\\n",
       "\t Italy & 2021-01-01 & Pfizer/BioNTech & 50827\\\\\n",
       "\\end{tabular}\n"
      ],
      "text/markdown": [
       "\n",
       "A tibble: 6 × 4\n",
       "\n",
       "| location &lt;chr&gt; | date &lt;date&gt; | vaccine &lt;chr&gt; | total_vaccinations &lt;dbl&gt; |\n",
       "|---|---|---|---|\n",
       "| Italy | 2020-12-27 | Pfizer/BioNTech |  7152 |\n",
       "| Italy | 2020-12-28 | Pfizer/BioNTech |  8573 |\n",
       "| Italy | 2020-12-29 | Pfizer/BioNTech |  9578 |\n",
       "| Italy | 2020-12-30 | Pfizer/BioNTech | 14304 |\n",
       "| Italy | 2020-12-31 | Pfizer/BioNTech | 39776 |\n",
       "| Italy | 2021-01-01 | Pfizer/BioNTech | 50827 |\n",
       "\n"
      ],
      "text/plain": [
       "  location date       vaccine         total_vaccinations\n",
       "1 Italy    2020-12-27 Pfizer/BioNTech  7152             \n",
       "2 Italy    2020-12-28 Pfizer/BioNTech  8573             \n",
       "3 Italy    2020-12-29 Pfizer/BioNTech  9578             \n",
       "4 Italy    2020-12-30 Pfizer/BioNTech 14304             \n",
       "5 Italy    2020-12-31 Pfizer/BioNTech 39776             \n",
       "6 Italy    2021-01-01 Pfizer/BioNTech 50827             "
      ]
     },
     "metadata": {},
     "output_type": "display_data"
    }
   ],
   "source": [
    "covid.df.italy <- filter(covid.df, covid.df$location == \"Italy\")\n",
    "head(covid.df.italy)"
   ]
  },
  {
   "cell_type": "code",
   "execution_count": 25,
   "metadata": {},
   "outputs": [
    {
     "data": {
      "image/png": "[encoded data removed]",
      "text/plain": [
       "plot without title"
      ]
     },
     "metadata": {
      "image/png": {
       "height": 420,
       "width": 420
      }
     },
     "output_type": "display_data"
    }
   ],
   "source": [
    "# per plottare il numero di vaccini al variare del tempo devo innanzitutto selezionare le tre tipologie \n",
    "# di vaccini. Utilizzo direttamente la proprietà dell'attributo \"col\" in ggplot2 che mi permette di \n",
    "# cambiare colore del grafico al variare di un'etichetta che scelgo in una colonna del dataframe \n",
    "\n",
    "g <- ggplot(data = covid.df.italy, aes(x = date, y = total_vaccinations, col = vaccine))\n",
    "g <- g + geom_point()\n",
    "g <- g + geom_line()\n",
    "g <- g + labs(x = \"Date\", y = \"Total vaccinations\")\n",
    "g <- g + ggtitle(\"Total vaccinations wrt time in Italy\")\n",
    "g\n"
   ]
  },
  {
   "cell_type": "markdown",
   "metadata": {},
   "source": [
    "A differenza del grafico precedente adesso non si terrà conto della distinzione nelle tre case farmaceutiche che producono ad oggi il vaccino. Rappresento dunque il numero totale di vaccini somministrati al giorno in Italia."
   ]
  },
  {
   "cell_type": "code",
   "execution_count": 26,
   "metadata": {},
   "outputs": [
    {
     "data": {
      "image/png": "[encoded data removed]",
      "text/plain": [
       "plot without title"
      ]
     },
     "metadata": {
      "image/png": {
       "height": 420,
       "width": 420
      }
     },
     "output_type": "display_data"
    }
   ],
   "source": [
    "# per rappresentare quanto scritto sopra è necessario raggruppare il dataframe in funzione della data e \n",
    "# per ciascun giorno sommare i vaccini somministrati\n",
    "\n",
    "plot.total.vaccinations <- function(df,nation) {\n",
    "    \n",
    "    # per rendere riutilizzabile questa funzione filtro innanzitutto il dataframe in funzione della \n",
    "    # nazione \"nation\" richiesta. Raggruppo per giorno e sommo la colonna \"total_vaccinations\".\n",
    "    # Infine eseguo il plot tramite ggplot con punti e linee \n",
    "    \n",
    "    filt <- filter(df, df$location == nation)\n",
    "    aggr <- aggregate(filt$total_vaccinations, by = list(filt$date), FUN = sum)\n",
    "    names(aggr) <- c(\"date\",\"vaccinations\")\n",
    "    g <- ggplot(data = aggr, aes(x = date, y = vaccinations)) + geom_point(aes(col = \"red\"), show.legend = FALSE) + geom_line(aes(col = \"red\"), show.legend = FALSE)\n",
    "    g <- g + labs(x = \"Date\", y = \"Total number of vaccinations\") + ggtitle(sprintf(\"Total number of vaccinations for all manufacturers over time in %s\",nation))\n",
    "    g\n",
    "}\n",
    "\n",
    "plot.total.vaccinations(covid.df,\"Italy\")"
   ]
  },
  {
   "cell_type": "code",
   "execution_count": 27,
   "metadata": {},
   "outputs": [],
   "source": [
    "# ripetendo lo stesso discorso per la Germania e gli USA definisco un'ulteriore funzione che rappresenta \n",
    "# il numero di vaccini eseguiti al variare del tempo differenziando per le tre case farmaceutiche \n",
    "\n",
    "plot.total.vaccinations.manufacturers <- function(df,nation) {\n",
    "    \n",
    "    filt <- filter(df, df$location == nation)\n",
    "    g <- ggplot(data = filt, aes(x = date, y = total_vaccinations, col = vaccine))\n",
    "    g <- g + geom_point()\n",
    "    g <- g + geom_line()\n",
    "    g <- g + labs(x = \"Date\", y = \"Total vaccinations\")\n",
    "    g <- g + ggtitle(sprintf(\"Total vaccinations wrt time in %s\", nation))\n",
    "    g\n",
    "}"
   ]
  },
  {
   "cell_type": "code",
   "execution_count": 28,
   "metadata": {},
   "outputs": [
    {
     "data": {
      "image/png": "[encoded data removed]",
      "text/plain": [
       "plot without title"
      ]
     },
     "metadata": {
      "image/png": {
       "height": 420,
       "width": 420
      }
     },
     "output_type": "display_data"
    },
    {
     "data": {
      "image/png": "[encoded data removed]",
      "text/plain": [
       "plot without title"
      ]
     },
     "metadata": {
      "image/png": {
       "height": 420,
       "width": 420
      }
     },
     "output_type": "display_data"
    }
   ],
   "source": [
    "# Germania\n",
    "\n",
    "plot.total.vaccinations.manufacturers(covid.df, \"Germany\")\n",
    "plot.total.vaccinations(covid.df, \"Germany\")"
   ]
  },
  {
   "cell_type": "code",
   "execution_count": 29,
   "metadata": {},
   "outputs": [
    {
     "data": {
      "image/png": "[encoded data removed]",
      "text/plain": [
       "plot without title"
      ]
     },
     "metadata": {
      "image/png": {
       "height": 420,
       "width": 420
      }
     },
     "output_type": "display_data"
    },
    {
     "data": {
      "image/png": "[encoded data removed]",
      "text/plain": [
       "plot without title"
      ]
     },
     "metadata": {
      "image/png": {
       "height": 420,
       "width": 420
      }
     },
     "output_type": "display_data"
    }
   ],
   "source": [
    "# USA \n",
    "\n",
    "plot.total.vaccinations.manufacturers(covid.df, \"United States\")\n",
    "plot.total.vaccinations(covid.df, \"United States\")"
   ]
  },
  {
   "cell_type": "markdown",
   "metadata": {},
   "source": [
    "#### Second part of covid19 data analysis"
   ]
  },
  {
   "cell_type": "code",
   "execution_count": 30,
   "metadata": {},
   "outputs": [
    {
     "name": "stderr",
     "output_type": "stream",
     "text": [
      "\n",
      "\u001b[36m--\u001b[39m \u001b[1m\u001b[1mColumn specification\u001b[1m\u001b[22m \u001b[36m------------------------------------------------------------------------------------------------\u001b[39m\n",
      "cols(\n",
      "  location = \u001b[31mcol_character()\u001b[39m,\n",
      "  iso_code = \u001b[31mcol_character()\u001b[39m,\n",
      "  date = \u001b[34mcol_date(format = \"\")\u001b[39m,\n",
      "  total_vaccinations = \u001b[32mcol_double()\u001b[39m,\n",
      "  people_vaccinated = \u001b[32mcol_double()\u001b[39m,\n",
      "  people_fully_vaccinated = \u001b[32mcol_double()\u001b[39m,\n",
      "  daily_vaccinations_raw = \u001b[32mcol_double()\u001b[39m,\n",
      "  daily_vaccinations = \u001b[32mcol_double()\u001b[39m,\n",
      "  total_vaccinations_per_hundred = \u001b[32mcol_double()\u001b[39m,\n",
      "  people_vaccinated_per_hundred = \u001b[32mcol_double()\u001b[39m,\n",
      "  people_fully_vaccinated_per_hundred = \u001b[32mcol_double()\u001b[39m,\n",
      "  daily_vaccinations_per_million = \u001b[32mcol_double()\u001b[39m\n",
      ")\n",
      "\n",
      "\n"
     ]
    },
    {
     "data": {
      "text/html": [
       "<table class=\"dataframe\">\n",
       "<caption>A tibble: 6 × 12</caption>\n",
       "<thead>\n",
       "\t<tr><th scope=col>location</th><th scope=col>iso_code</th><th scope=col>date</th><th scope=col>total_vaccinations</th><th scope=col>people_vaccinated</th><th scope=col>people_fully_vaccinated</th><th scope=col>daily_vaccinations_raw</th><th scope=col>daily_vaccinations</th><th scope=col>total_vaccinations_per_hundred</th><th scope=col>people_vaccinated_per_hundred</th><th scope=col>people_fully_vaccinated_per_hundred</th><th scope=col>daily_vaccinations_per_million</th></tr>\n",
       "\t<tr><th scope=col>&lt;chr&gt;</th><th scope=col>&lt;chr&gt;</th><th scope=col>&lt;date&gt;</th><th scope=col>&lt;dbl&gt;</th><th scope=col>&lt;dbl&gt;</th><th scope=col>&lt;dbl&gt;</th><th scope=col>&lt;dbl&gt;</th><th scope=col>&lt;dbl&gt;</th><th scope=col>&lt;dbl&gt;</th><th scope=col>&lt;dbl&gt;</th><th scope=col>&lt;dbl&gt;</th><th scope=col>&lt;dbl&gt;</th></tr>\n",
       "</thead>\n",
       "<tbody>\n",
       "\t<tr><td>Afghanistan</td><td>AFG</td><td>2021-02-22</td><td> 0</td><td> 0</td><td>NA</td><td>NA</td><td>  NA</td><td> 0</td><td> 0</td><td>NA</td><td>NA</td></tr>\n",
       "\t<tr><td>Afghanistan</td><td>AFG</td><td>2021-02-23</td><td>NA</td><td>NA</td><td>NA</td><td>NA</td><td>1367</td><td>NA</td><td>NA</td><td>NA</td><td>35</td></tr>\n",
       "\t<tr><td>Afghanistan</td><td>AFG</td><td>2021-02-24</td><td>NA</td><td>NA</td><td>NA</td><td>NA</td><td>1367</td><td>NA</td><td>NA</td><td>NA</td><td>35</td></tr>\n",
       "\t<tr><td>Afghanistan</td><td>AFG</td><td>2021-02-25</td><td>NA</td><td>NA</td><td>NA</td><td>NA</td><td>1367</td><td>NA</td><td>NA</td><td>NA</td><td>35</td></tr>\n",
       "\t<tr><td>Afghanistan</td><td>AFG</td><td>2021-02-26</td><td>NA</td><td>NA</td><td>NA</td><td>NA</td><td>1367</td><td>NA</td><td>NA</td><td>NA</td><td>35</td></tr>\n",
       "\t<tr><td>Afghanistan</td><td>AFG</td><td>2021-02-27</td><td>NA</td><td>NA</td><td>NA</td><td>NA</td><td>1367</td><td>NA</td><td>NA</td><td>NA</td><td>35</td></tr>\n",
       "</tbody>\n",
       "</table>\n"
      ],
      "text/latex": [
       "A tibble: 6 × 12\n",
       "\\begin{tabular}{llllllllllll}\n",
       " location & iso\\_code & date & total\\_vaccinations & people\\_vaccinated & people\\_fully\\_vaccinated & daily\\_vaccinations\\_raw & daily\\_vaccinations & total\\_vaccinations\\_per\\_hundred & people\\_vaccinated\\_per\\_hundred & people\\_fully\\_vaccinated\\_per\\_hundred & daily\\_vaccinations\\_per\\_million\\\\\n",
       " <chr> & <chr> & <date> & <dbl> & <dbl> & <dbl> & <dbl> & <dbl> & <dbl> & <dbl> & <dbl> & <dbl>\\\\\n",
       "\\hline\n",
       "\t Afghanistan & AFG & 2021-02-22 &  0 &  0 & NA & NA &   NA &  0 &  0 & NA & NA\\\\\n",
       "\t Afghanistan & AFG & 2021-02-23 & NA & NA & NA & NA & 1367 & NA & NA & NA & 35\\\\\n",
       "\t Afghanistan & AFG & 2021-02-24 & NA & NA & NA & NA & 1367 & NA & NA & NA & 35\\\\\n",
       "\t Afghanistan & AFG & 2021-02-25 & NA & NA & NA & NA & 1367 & NA & NA & NA & 35\\\\\n",
       "\t Afghanistan & AFG & 2021-02-26 & NA & NA & NA & NA & 1367 & NA & NA & NA & 35\\\\\n",
       "\t Afghanistan & AFG & 2021-02-27 & NA & NA & NA & NA & 1367 & NA & NA & NA & 35\\\\\n",
       "\\end{tabular}\n"
      ],
      "text/markdown": [
       "\n",
       "A tibble: 6 × 12\n",
       "\n",
       "| location &lt;chr&gt; | iso_code &lt;chr&gt; | date &lt;date&gt; | total_vaccinations &lt;dbl&gt; | people_vaccinated &lt;dbl&gt; | people_fully_vaccinated &lt;dbl&gt; | daily_vaccinations_raw &lt;dbl&gt; | daily_vaccinations &lt;dbl&gt; | total_vaccinations_per_hundred &lt;dbl&gt; | people_vaccinated_per_hundred &lt;dbl&gt; | people_fully_vaccinated_per_hundred &lt;dbl&gt; | daily_vaccinations_per_million &lt;dbl&gt; |\n",
       "|---|---|---|---|---|---|---|---|---|---|---|---|\n",
       "| Afghanistan | AFG | 2021-02-22 |  0 |  0 | NA | NA |   NA |  0 |  0 | NA | NA |\n",
       "| Afghanistan | AFG | 2021-02-23 | NA | NA | NA | NA | 1367 | NA | NA | NA | 35 |\n",
       "| Afghanistan | AFG | 2021-02-24 | NA | NA | NA | NA | 1367 | NA | NA | NA | 35 |\n",
       "| Afghanistan | AFG | 2021-02-25 | NA | NA | NA | NA | 1367 | NA | NA | NA | 35 |\n",
       "| Afghanistan | AFG | 2021-02-26 | NA | NA | NA | NA | 1367 | NA | NA | NA | 35 |\n",
       "| Afghanistan | AFG | 2021-02-27 | NA | NA | NA | NA | 1367 | NA | NA | NA | 35 |\n",
       "\n"
      ],
      "text/plain": [
       "  location    iso_code date       total_vaccinations people_vaccinated\n",
       "1 Afghanistan AFG      2021-02-22  0                  0               \n",
       "2 Afghanistan AFG      2021-02-23 NA                 NA               \n",
       "3 Afghanistan AFG      2021-02-24 NA                 NA               \n",
       "4 Afghanistan AFG      2021-02-25 NA                 NA               \n",
       "5 Afghanistan AFG      2021-02-26 NA                 NA               \n",
       "6 Afghanistan AFG      2021-02-27 NA                 NA               \n",
       "  people_fully_vaccinated daily_vaccinations_raw daily_vaccinations\n",
       "1 NA                      NA                       NA              \n",
       "2 NA                      NA                     1367              \n",
       "3 NA                      NA                     1367              \n",
       "4 NA                      NA                     1367              \n",
       "5 NA                      NA                     1367              \n",
       "6 NA                      NA                     1367              \n",
       "  total_vaccinations_per_hundred people_vaccinated_per_hundred\n",
       "1  0                              0                           \n",
       "2 NA                             NA                           \n",
       "3 NA                             NA                           \n",
       "4 NA                             NA                           \n",
       "5 NA                             NA                           \n",
       "6 NA                             NA                           \n",
       "  people_fully_vaccinated_per_hundred daily_vaccinations_per_million\n",
       "1 NA                                  NA                            \n",
       "2 NA                                  35                            \n",
       "3 NA                                  35                            \n",
       "4 NA                                  35                            \n",
       "5 NA                                  35                            \n",
       "6 NA                                  35                            "
      ]
     },
     "metadata": {},
     "output_type": "display_data"
    }
   ],
   "source": [
    "url <- \"https://raw.githubusercontent.com/owid/covid-19-data/master/public/data/vaccinations/vaccinations.csv\"\n",
    "covid.df2 <- read_csv(url)\n",
    "head(covid.df2)"
   ]
  },
  {
   "cell_type": "code",
   "execution_count": 31,
   "metadata": {},
   "outputs": [
    {
     "data": {
      "image/png": "[encoded data removed]",
      "text/plain": [
       "plot without title"
      ]
     },
     "metadata": {
      "image/png": {
       "height": 420,
       "width": 420
      }
     },
     "output_type": "display_data"
    }
   ],
   "source": [
    "# per selezionare le nazioni europee filtro il dataframe come già visto precedentemente rispetto alla \n",
    "# colonna \"location\"\n",
    "\n",
    "covid.df2.europe <- filter(covid.df2, covid.df2$location == \"Europe\")\n",
    "# mi accorgo che nella colonna daily_vaccinations_per_million ci sono dei missing values quindi li elimino\n",
    "g <- ggplot(data = drop_na(covid.df2.europe), aes(x = date, y = daily_vaccinations_per_million))\n",
    "g <- g + geom_line() + geom_point() + labs(x = \"Date\", y = \"Daily vaccinations per million\") + ggtitle(\"Daily vaccinations per million over time in Europe\")\n",
    "g"
   ]
  },
  {
   "cell_type": "markdown",
   "metadata": {},
   "source": [
    "### Analisi aggiuntiva \n",
    "\n",
    "Osservando il dataframe mi chiedo quale continente abbia somministrato più vaccini fino alla data ultima di raccolta dei dati nella tabella. Per fare ciò innanzitutto seleziono i vari continenti attraverso il loro \"iso_code\". Tramite la funzione aggregate posso raggruppare per continente (ci sono anche alcune nazioni oltre ai cinque continenti probabilmente per il loro impatto nella somministrazione dei vaccini) e sommare rispetto alla colonna total vaccinations. Questo accade perchè nel dataframe ho tante righe per ciascuna nazione quanti sono i giorni di prese dati, quindi la colonna location è costituita da diverse righe uguali. Eliminando dal dataframe i valori non disponibili (NA) ottengo come risultato una tabella con due colonne e 14 righe quante sono i continenti/nazioni nel dataframe. Rappresento tramite un barplot quanto trovato."
   ]
  },
  {
   "cell_type": "code",
   "execution_count": 32,
   "metadata": {},
   "outputs": [
    {
     "data": {
      "image/png": "[encoded data removed]",
      "text/plain": [
       "Plot with title \"Total number of vaccinations over the World\""
      ]
     },
     "metadata": {
      "image/png": {
       "height": 420,
       "width": 420
      }
     },
     "output_type": "display_data"
    }
   ],
   "source": [
    "covid.df2.nations <- covid.df2[grepl(\"^OWID_.*\", covid.df2$iso_code),]\n",
    "# tramite regular expression chiedo al dataframe di selezionare quelle righe che cominciano esattamente \n",
    "# per OWID_ \n",
    "\n",
    "covid.df2.nations$total_vaccinations[is.na(covid.df2.nations$total_vaccinations)] <- 0\n",
    "# poichè devo sommare sulla colonna \"date\" è necessario eliminare da \"total_vaccinations\" i NA altrimenti \n",
    "# il risultato delle operazioni che li riguarda sarebbe esattamente NA.\n",
    "\n",
    "covid.df2.barplot <- aggregate(covid.df2.nations$total_vaccinations, by = list(covid.df2.nations$location), FUN = sum)\n",
    "\n",
    "# per rendere il nuovo dataframe più leggibile cambio i nomi delle due colonne in location e total_vaccinations\n",
    "names(covid.df2.barplot) <- c(\"location\",\"total_vaccinations\")\n",
    "\n",
    "par(mar=c(10, 5, 3, 1)) \n",
    "# utile per aumentare il margine in basso al fine di far entrare i nomi anche più lunghi, inoltre definisce \n",
    "# le distanze dai quattro margini della figura.\n",
    "pal <- colorRampPalette(colors = c(\"lightblue\", \"blue\"))(14)\n",
    "barplot(height = covid.df2.barplot$total_vaccinations , names = covid.df2.barplot$location, las=2, col = pal)\n",
    "# l'opzione \"las\" mi permette di posizionare le eitchette perpendicolarmente al barplot in basso\n",
    "title(\"Total number of vaccinations over the World\")"
   ]
  },
  {
   "cell_type": "code",
   "execution_count": null,
   "metadata": {},
   "outputs": [],
   "source": []
  }
 ],
 "metadata": {
  "kernelspec": {
   "display_name": "R",
   "language": "R",
   "name": "ir"
  },
  "language_info": {
   "codemirror_mode": "r",
   "file_extension": ".r",
   "mimetype": "text/x-r-source",
   "name": "R",
   "pygments_lexer": "r",
   "version": "4.0.4"
  }
 },
 "nbformat": 4,
 "nbformat_minor": 4
}
