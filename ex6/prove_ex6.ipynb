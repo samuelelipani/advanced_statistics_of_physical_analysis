{
 "cells": [
  {
   "cell_type": "markdown",
   "metadata": {},
   "source": [
    "### Prove che ho fatto con apply e mapply "
   ]
  },
  {
   "cell_type": "code",
   "execution_count": 67,
   "metadata": {},
   "outputs": [],
   "source": [
    "a <- matrix(data = rep(alphas,length(x)), nrow = length(alphas), ncol = length(x))\n",
    "b <- matrix(data = rep(betas,length(x)), nrow = length(betas), ncol = length(x))\n",
    "# le operazioni andranno eseguite sulle righe, ogni riga è una ripetizione tante volte quanti sono i dati x dello stesso valore di alpha o beta"
   ]
  },
  {
   "cell_type": "code",
   "execution_count": 68,
   "metadata": {},
   "outputs": [],
   "source": [
    "xa <- matrix(data = rep(x,length(alphas)), nrow = length(alphas), ncol = length(x), byrow=TRUE)\n",
    "xb <- matrix(data = rep(x,length(betas)), nrow = length(betas), ncol = length(x), byrow=TRUE)\n",
    "# adesso a e xa hanno le stesse righe e colonne, così come b e xb. In generale xa e xb sono diversi "
   ]
  },
  {
   "cell_type": "code",
   "execution_count": 114,
   "metadata": {},
   "outputs": [],
   "source": [
    "# per semlicità in termini vettoriali provo ad utilizzare vettori alpha e beta della stessa dimensione in modo che xa ed xb siano uguali \n",
    "data.and.par <- cbind(xa,a,b)"
   ]
  },
  {
   "cell_type": "code",
   "execution_count": 115,
   "metadata": {},
   "outputs": [],
   "source": [
    "pos <- apply(data.and.par, 1, function(m) log.likelihood(m[1:ncol(a)],m[1 + ncol(a):ncol(a) + ncol(b)],\n",
    "                                                                m[1 + ncol(a) + ncol(b):ncol(a) + ncol(b) + ncol(xa)]))"
   ]
  },
  {
   "cell_type": "code",
   "execution_count": 116,
   "metadata": {},
   "outputs": [
    {
     "data": {
      "text/html": [
       "<style>\n",
       ".list-inline {list-style: none; margin:0; padding: 0}\n",
       ".list-inline>li {display: inline-block}\n",
       ".list-inline>li:not(:last-child)::after {content: \"\\00b7\"; padding: 0 .5ex}\n",
       "</style>\n",
       "<ol class=list-inline><li>&lt;NA&gt;</li><li>&lt;NA&gt;</li><li>&lt;NA&gt;</li><li>&lt;NA&gt;</li><li>&lt;NA&gt;</li><li>&lt;NA&gt;</li><li>&lt;NA&gt;</li><li>&lt;NA&gt;</li><li>&lt;NA&gt;</li><li>&lt;NA&gt;</li><li>&lt;NA&gt;</li></ol>\n"
      ],
      "text/latex": [
       "\\begin{enumerate*}\n",
       "\\item <NA>\n",
       "\\item <NA>\n",
       "\\item <NA>\n",
       "\\item <NA>\n",
       "\\item <NA>\n",
       "\\item <NA>\n",
       "\\item <NA>\n",
       "\\item <NA>\n",
       "\\item <NA>\n",
       "\\item <NA>\n",
       "\\item <NA>\n",
       "\\end{enumerate*}\n"
      ],
      "text/markdown": [
       "1. &lt;NA&gt;\n",
       "2. &lt;NA&gt;\n",
       "3. &lt;NA&gt;\n",
       "4. &lt;NA&gt;\n",
       "5. &lt;NA&gt;\n",
       "6. &lt;NA&gt;\n",
       "7. &lt;NA&gt;\n",
       "8. &lt;NA&gt;\n",
       "9. &lt;NA&gt;\n",
       "10. &lt;NA&gt;\n",
       "11. &lt;NA&gt;\n",
       "\n",
       "\n"
      ],
      "text/plain": [
       " [1] NA NA NA NA NA NA NA NA NA NA NA"
      ]
     },
     "metadata": {},
     "output_type": "display_data"
    }
   ],
   "source": [
    "pos"
   ]
  },
  {
   "cell_type": "code",
   "execution_count": 110,
   "metadata": {},
   "outputs": [
    {
     "data": {
      "text/html": [
       "<style>\n",
       ".list-inline {list-style: none; margin:0; padding: 0}\n",
       ".list-inline>li {display: inline-block}\n",
       ".list-inline>li:not(:last-child)::after {content: \"\\00b7\"; padding: 0 .5ex}\n",
       "</style>\n",
       "<ol class=list-inline><li>21</li><li>24</li><li>27</li><li>30</li><li>33</li><li>36</li></ol>\n"
      ],
      "text/latex": [
       "\\begin{enumerate*}\n",
       "\\item 21\n",
       "\\item 24\n",
       "\\item 27\n",
       "\\item 30\n",
       "\\item 33\n",
       "\\item 36\n",
       "\\end{enumerate*}\n"
      ],
      "text/markdown": [
       "1. 21\n",
       "2. 24\n",
       "3. 27\n",
       "4. 30\n",
       "5. 33\n",
       "6. 36\n",
       "\n",
       "\n"
      ],
      "text/plain": [
       "[1] 21 24 27 30 33 36"
      ]
     },
     "metadata": {},
     "output_type": "display_data"
    }
   ],
   "source": [
    "f <- matrix(data=c(1,2,3,4,5,6),nrow=2); g <-  matrix(data=c(7,8,9,10,11,12),nrow=2); h <- matrix(data=c(13,14,15,16,17,18),nrow=2) \n",
    "fun <- function(x1,x2,x3) (x1 + x2 + x3)\n",
    "fff <- mapply(fun,f,g,h)\n",
    "fff\n",
    "# è quello che mi aspetto sommando la prima riga di ogni matrice elementwise, restituendo i primi tre numeri, e la seconda riga con altri tre\n",
    "# numeri "
   ]
  },
  {
   "cell_type": "code",
   "execution_count": 131,
   "metadata": {},
   "outputs": [],
   "source": [
    "pos1 <- mapply(single.log.likelihood,xa,a,b)"
   ]
  },
  {
   "cell_type": "code",
   "execution_count": 126,
   "metadata": {},
   "outputs": [],
   "source": [
    "pos1 <- exp(pos1)"
   ]
  },
  {
   "cell_type": "code",
   "execution_count": 132,
   "metadata": {},
   "outputs": [],
   "source": [
    "bo <- matrix(data=pos1, ncol = 50)"
   ]
  },
  {
   "cell_type": "code",
   "execution_count": 134,
   "metadata": {},
   "outputs": [],
   "source": [
    "bo1 <- apply(bo, 1,prod)"
   ]
  },
  {
   "cell_type": "code",
   "execution_count": 135,
   "metadata": {},
   "outputs": [
    {
     "data": {
      "text/html": [
       "11"
      ],
      "text/latex": [
       "11"
      ],
      "text/markdown": [
       "11"
      ],
      "text/plain": [
       "[1] 11"
      ]
     },
     "metadata": {},
     "output_type": "display_data"
    }
   ],
   "source": [
    "length(bo1) \n",
    "# teoricamente così ho calcolato soltanto i valori della log likelihood sulla diagonale principale della griglia alpha x beta"
   ]
  }
 ],
 "metadata": {
  "kernelspec": {
   "display_name": "R",
   "language": "R",
   "name": "ir"
  },
  "language_info": {
   "codemirror_mode": "r",
   "file_extension": ".r",
   "mimetype": "text/x-r-source",
   "name": "R",
   "pygments_lexer": "r",
   "version": "4.0.4"
  }
 },
 "nbformat": 4,
 "nbformat_minor": 4
}
