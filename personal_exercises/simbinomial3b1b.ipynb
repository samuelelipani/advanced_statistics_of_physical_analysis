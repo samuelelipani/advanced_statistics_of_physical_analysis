{
 "cells": [
  {
   "cell_type": "markdown",
   "metadata": {},
   "source": [
    "## Simulazioni "
   ]
  },
  {
   "cell_type": "code",
   "execution_count": 31,
   "metadata": {},
   "outputs": [],
   "source": [
    "library(tidyverse)\n",
    "library(ggplot2)"
   ]
  },
  {
   "cell_type": "markdown",
   "metadata": {},
   "source": [
    "### Eventi estratti da una distribuzione binomiale di probabilità\n",
    "Supponiamo di osservare un prodotto su amazon che contiene una serie di review, la pagina sostiene che il rate di recensioni positive rispetto a quelle negative sia p con un numero di recensioni pari a n. Chiediamoci quanto effettivamente possiamo ritenere veritiero questo dato in funzione del numero di recensioni n. Vogliamo pertanto dedurre se effettivamente il rate sia p=0.95 ad esempio oppure un altro valore: \n",
    "\n",
    "$$ P(rate|data) = \\frac{P(data|rate) \\cdot P(rate)}{P(data)}$$\n",
    "\n",
    "La probabilità di osservare un certo rateo di recensioni positive dunque dipende dai dati e da quanto la famiglia di modelli che scegliamo per rappresentarli è con essi consistente. Ad esempio supponiamo di considerare la famiglia di distribuzioni binomiali funzioni del parametro p, ovvero quel rate su cui vogliamo fare inferenza. Scelti tali modelli ($P(data|rate)$ likelihood) è necessario supporre che inizialmente questo rate abbia una certa distribuzione di probabilità di essere osservato, il prior $P(rate)$; nel caso in cui la nostra ignoranza fosse la massima possibile allora utilizzeremmo un prior uniforme. Esso rappresenta l'equiprobabilità di vedere inizialmente, prima di aver raccolto alcun dato, un rate nell'intervallo $[0,1]$.  \n",
    "\n",
    "Calcoliamo la likelihood tramite la seguente simulazione scegliendo:\n",
    "- il numero di recensioni n\n",
    "- il numero di recensioni positive k \n",
    "- il numero di volte in cui eseguire la simulazione m\n",
    "- la probabilità di osservare una recensione positiva p\n",
    "\n",
    "Concentriamoci per fare un esempio sulla probabilità di trovare k recensioni positive rispetto alle n osservate se il modello che le descrive è una distribuzione binomiale:\n",
    "\n",
    "$$ P(k \\ \\checkmark \\ ratings|rate=p) = \\binom{n}{k} \\cdot p^k \\cdot (1-p)^{n-k}$$"
   ]
  },
  {
   "cell_type": "code",
   "execution_count": 2,
   "metadata": {},
   "outputs": [],
   "source": [
    "# simulating a binomial experience with a probability rate of 95%\n",
    "n <- 1000 \n",
    "# assume we have n extractions \n",
    "p <- 0.95 \n",
    "# rate of success is equal to p \n",
    "\n",
    "x <- runif(n)\n",
    "# x is a vector of random numbers from zero to one with length n\n",
    "# x[x > 0.95] = 1\n",
    "# x[x != 1] = 0\n",
    "# this one is only a sequence of 1000 extractions where the ones are the positive experiences and zero the others; we should simulate m times \n",
    "# this scenario and after that represent an histogram where the number of positive experiences is the random variable\n",
    "\n",
    "v <- length(x[x > p])\n",
    "# instead of assigning to the whole vector zeros and ones i decide to measure the legngth of the resulting vector after a logical indexing.\n",
    "# As we have seen before i have to simulate m times this number v and make an histogram"
   ]
  },
  {
   "cell_type": "code",
   "execution_count": 2,
   "metadata": {},
   "outputs": [],
   "source": [
    "binomialsampling <- function(n,m,p){\n",
    "    v <- rep(NA,m)\n",
    "    for(i in 1:m){\n",
    "        x <- runif(n)\n",
    "        v[i] <- length(x[x <= p])\n",
    "        }\n",
    "    return(v)\n",
    "}"
   ]
  },
  {
   "cell_type": "code",
   "execution_count": 50,
   "metadata": {},
   "outputs": [
    {
     "name": "stdin",
     "output_type": "stream",
     "text": [
      "How many ratings are there? 50\n",
      "What is the number of positive ratings? 48\n",
      "How many times do you want to simulate the extractions? 1000\n",
      "What is the probability of seeing a good rating? 0.95\n"
     ]
    },
    {
     "data": {
      "text/html": [
       "'The probability of seeing 48 positive responses versus 50 is 26.50 %'"
      ],
      "text/latex": [
       "'The probability of seeing 48 positive responses versus 50 is 26.50 \\%'"
      ],
      "text/markdown": [
       "'The probability of seeing 48 positive responses versus 50 is 26.50 %'"
      ],
      "text/plain": [
       "[1] \"The probability of seeing 48 positive responses versus 50 is 26.50 %\""
      ]
     },
     "metadata": {},
     "output_type": "display_data"
    },
    {
     "data": {
      "text/html": [
       "'The probability of seeing 48 positive responses versus 50 from theory is 26.11 %'"
      ],
      "text/latex": [
       "'The probability of seeing 48 positive responses versus 50 from theory is 26.11 \\%'"
      ],
      "text/markdown": [
       "'The probability of seeing 48 positive responses versus 50 from theory is 26.11 %'"
      ],
      "text/plain": [
       "[1] \"The probability of seeing 48 positive responses versus 50 from theory is 26.11 %\""
      ]
     },
     "metadata": {},
     "output_type": "display_data"
    },
    {
     "data": {
      "image/png": "[encoded data removed]",
      "text/plain": [
       "Plot with title \"Histogram of h\""
      ]
     },
     "metadata": {
      "image/png": {
       "height": 420,
       "width": 420
      }
     },
     "output_type": "display_data"
    }
   ],
   "source": [
    "n <- as.numeric(readline(prompt = \"How many ratings are there?\"))\n",
    "k <- as.numeric(readline(prompt = \"What is the number of positive ratings?\"))\n",
    "# questo k serve per colorare diversamente il bin corrispondente nell'istogramma visto che ci stiamo concentrando su una specifica situazione\n",
    "m <- as.numeric(readline(prompt = \"How many times do you want to simulate the extractions?\"))\n",
    "p <- as.numeric(readline(prompt = \"What is the probability of seeing a good rating?\"))\n",
    "\n",
    "# in this way i can decide what are the parameters of the simulation for each iteration \n",
    "\n",
    "h <- binomialsampling(n,m,p)\n",
    "\n",
    "histogram <- hist(h,plot=FALSE)\n",
    "#cuts <- cut(histogram$breaks, c(-Inf,47,48,Inf))\n",
    "colors = ifelse(histogram$breaks < k-1, \"dodgerblue\", ifelse(histogram$breaks >= k, \"dodgerblue\", \"red\"))\n",
    "plot(histogram, col=colors, xlab=\"Number of positive ratings\", freq=FALSE)\n",
    "# aggiungo il plot della binomiale teorica ottenuta attraverso la funzione base di R\n",
    "x <- seq(42,50, by = 1)\n",
    "y <- dbinom(x,n,p)\n",
    "lines(x,y, lwd = 3, type = \"b\", col=\"black\")\n",
    "\n",
    "legend(\"topleft\", legend = c(sprintf(\"%i postiive ratings among %i\", k, n),\"Binomial distribution\") , col=c(\"red\",\"black\"), fill=c(\"red\",\"black\"))\n",
    "\n",
    "\n",
    "sprintf(\"The probability of seeing %i positive responses versus %i is %.2f %%\",k, n, length(h[h == k])/m*100)\n",
    "sprintf(\"The probability of seeing %i positive responses versus %i from theory is %.2f %%\",k, n, y[x == k]*100)"
   ]
  },
  {
   "cell_type": "code",
   "execution_count": null,
   "metadata": {},
   "outputs": [],
   "source": []
  }
 ],
 "metadata": {
  "kernelspec": {
   "display_name": "R",
   "language": "R",
   "name": "ir"
  },
  "language_info": {
   "codemirror_mode": "r",
   "file_extension": ".r",
   "mimetype": "text/x-r-source",
   "name": "R",
   "pygments_lexer": "r",
   "version": "4.0.4"
  }
 },
 "nbformat": 4,
 "nbformat_minor": 4
}
