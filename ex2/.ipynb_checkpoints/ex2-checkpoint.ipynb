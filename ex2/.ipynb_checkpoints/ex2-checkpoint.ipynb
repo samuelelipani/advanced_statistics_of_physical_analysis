{
 "cells": [
  {
   "cell_type": "code",
   "execution_count": 1,
   "metadata": {},
   "outputs": [
    {
     "name": "stderr",
     "output_type": "stream",
     "text": [
      "-- \u001b[1mAttaching packages\u001b[22m ------------------------------------------------------------------------------- tidyverse 1.3.0 --\n",
      "\n",
      "\u001b[32mv\u001b[39m \u001b[34mggplot2\u001b[39m 3.3.3     \u001b[32mv\u001b[39m \u001b[34mpurrr  \u001b[39m 0.3.4\n",
      "\u001b[32mv\u001b[39m \u001b[34mtibble \u001b[39m 3.1.0     \u001b[32mv\u001b[39m \u001b[34mdplyr  \u001b[39m 1.0.5\n",
      "\u001b[32mv\u001b[39m \u001b[34mtidyr  \u001b[39m 1.1.3     \u001b[32mv\u001b[39m \u001b[34mstringr\u001b[39m 1.4.0\n",
      "\u001b[32mv\u001b[39m \u001b[34mreadr  \u001b[39m 1.4.0     \u001b[32mv\u001b[39m \u001b[34mforcats\u001b[39m 0.5.1\n",
      "\n",
      "-- \u001b[1mConflicts\u001b[22m ---------------------------------------------------------------------------------- tidyverse_conflicts() --\n",
      "\u001b[31mx\u001b[39m \u001b[34mdplyr\u001b[39m::\u001b[32mfilter()\u001b[39m masks \u001b[34mstats\u001b[39m::filter()\n",
      "\u001b[31mx\u001b[39m \u001b[34mdplyr\u001b[39m::\u001b[32mlag()\u001b[39m    masks \u001b[34mstats\u001b[39m::lag()\n",
      "\n"
     ]
    }
   ],
   "source": [
    "library(\"tidyverse\")"
   ]
  },
  {
   "cell_type": "markdown",
   "metadata": {},
   "source": [
    "#### EXTRA"
   ]
  },
  {
   "cell_type": "code",
   "execution_count": 2,
   "metadata": {},
   "outputs": [],
   "source": [
    "# prima di tutto svolgo l'esercizio \"extra\" che chiedeva di lavorare con le funzioni base di R\n",
    "\n",
    "objs <- mget(ls(\"package:base\", all = TRUE ), inherits = TRUE )\n",
    "bfuns <- Filter(is.function , objs )"
   ]
  },
  {
   "cell_type": "code",
   "execution_count": 3,
   "metadata": {},
   "outputs": [],
   "source": [
    "fun <- rep(0,length(bfuns))\n",
    "for (i in 1:length(bfuns)) {\n",
    "    fun[i] <- (length(formals(bfuns[[i]])))\n",
    "}"
   ]
  },
  {
   "cell_type": "code",
   "execution_count": 4,
   "metadata": {},
   "outputs": [
    {
     "data": {
      "image/png": "[encoded data removed]",
      "text/plain": [
       "Plot with title \"Base functions in R vs # of arguments\""
      ]
     },
     "metadata": {
      "image/png": {
       "height": 420,
       "width": 420
      }
     },
     "output_type": "display_data"
    }
   ],
   "source": [
    "hist(fun, main=\"Base functions in R vs # of arguments\", xlab=\"Number of arguments\",ylab=\"Number of functions\",col=\"dodgerblue\")"
   ]
  },
  {
   "cell_type": "markdown",
   "metadata": {},
   "source": [
    "## Exercise 1 \n",
    "Un set di misure sono state effettuate a proposito della concentrazione di un agente contaminante all'interno di acqua di rubinetto.\n",
    "La tabella che verrà costruita riporta i valori della concentrazione $x$ con la corrispondente probabilità p1 e p2 calcolate con metodi differenti."
   ]
  },
  {
   "cell_type": "code",
   "execution_count": 5,
   "metadata": {},
   "outputs": [
    {
     "data": {
      "text/html": [
       "<table class=\"dataframe\">\n",
       "<caption>A data.frame: 5 × 3</caption>\n",
       "<thead>\n",
       "\t<tr><th scope=col>x</th><th scope=col>p.1</th><th scope=col>p.2</th></tr>\n",
       "\t<tr><th scope=col>&lt;dbl&gt;</th><th scope=col>&lt;dbl&gt;</th><th scope=col>&lt;dbl&gt;</th></tr>\n",
       "</thead>\n",
       "<tbody>\n",
       "\t<tr><td>15.58</td><td>0.15</td><td>0.14</td></tr>\n",
       "\t<tr><td>15.90</td><td>0.21</td><td>0.05</td></tr>\n",
       "\t<tr><td>16.00</td><td>0.35</td><td>0.64</td></tr>\n",
       "\t<tr><td>16.10</td><td>0.15</td><td>0.08</td></tr>\n",
       "\t<tr><td>16.20</td><td>0.14</td><td>0.09</td></tr>\n",
       "</tbody>\n",
       "</table>\n"
      ],
      "text/latex": [
       "A data.frame: 5 × 3\n",
       "\\begin{tabular}{lll}\n",
       " x & p.1 & p.2\\\\\n",
       " <dbl> & <dbl> & <dbl>\\\\\n",
       "\\hline\n",
       "\t 15.58 & 0.15 & 0.14\\\\\n",
       "\t 15.90 & 0.21 & 0.05\\\\\n",
       "\t 16.00 & 0.35 & 0.64\\\\\n",
       "\t 16.10 & 0.15 & 0.08\\\\\n",
       "\t 16.20 & 0.14 & 0.09\\\\\n",
       "\\end{tabular}\n"
      ],
      "text/markdown": [
       "\n",
       "A data.frame: 5 × 3\n",
       "\n",
       "| x &lt;dbl&gt; | p.1 &lt;dbl&gt; | p.2 &lt;dbl&gt; |\n",
       "|---|---|---|\n",
       "| 15.58 | 0.15 | 0.14 |\n",
       "| 15.90 | 0.21 | 0.05 |\n",
       "| 16.00 | 0.35 | 0.64 |\n",
       "| 16.10 | 0.15 | 0.08 |\n",
       "| 16.20 | 0.14 | 0.09 |\n",
       "\n"
      ],
      "text/plain": [
       "  x     p.1  p.2 \n",
       "1 15.58 0.15 0.14\n",
       "2 15.90 0.21 0.05\n",
       "3 16.00 0.35 0.64\n",
       "4 16.10 0.15 0.08\n",
       "5 16.20 0.14 0.09"
      ]
     },
     "metadata": {},
     "output_type": "display_data"
    },
    {
     "name": "stdout",
     "output_type": "stream",
     "text": [
      "[1] \"Total probability with p1 is = 1\"\n",
      "[1] \"Total probability with p2 is = 1\"\n",
      "[1] \"Mean value of x with p1 is = 15.959\"\n",
      "[1] \"Mean value of x with p2 is = 15.9622\"\n",
      "[1] \"Variance of x with p1 is = 0.0339790000000164\"\n",
      "[1] \"Variance of x with p2 is = 0.0281671599999811\"\n"
     ]
    }
   ],
   "source": [
    "x <- c(15.58,15.9,16,16.1,16.2)\n",
    "p.1 <- c(0.15,0.21,0.35,0.15,0.14)\n",
    "p.2 <- c(0.14,0.05,0.64,0.08,0.09)\n",
    "\n",
    "# determino tramite la definizione il valore atteso della random variable x e la varianza \n",
    "# con le due probabilità p1 e p2\n",
    "df <- data.frame(x,p.1,p.2)\n",
    "df\n",
    "\n",
    "# verifico che le due probabilità siano normalizzate a uno \n",
    "print(paste0(\"Total probability with p1 is = \",sum(p.1)))\n",
    "print(paste0(\"Total probability with p2 is = \",sum(p.2)))\n",
    "\n",
    "mu <- function(x,p) sum(x*p)\n",
    "var <- function(x,p) sum((x**2)*p) - mu(x,p)**2\n",
    "# definisco due funzioni mu e var che calcolano la varianza e la media per una distribuzione discreta di \n",
    "# probabilità di cui sono noti i valori sampled per ciascun sample della random variable\n",
    "\n",
    "mu1 <- mu(x,p.1)\n",
    "mu2 <- mu(x,p.2)\n",
    "var1 <- var(x,p.1)\n",
    "var2 <- var(x,p.2)\n",
    "\n",
    "print(paste0(\"Mean value of x with p1 is = \", mu1))\n",
    "print(paste0(\"Mean value of x with p2 is = \", mu2))\n",
    "print(paste0(\"Variance of x with p1 is = \", var1))\n",
    "print(paste0(\"Variance of x with p2 is = \", var2))"
   ]
  },
  {
   "cell_type": "markdown",
   "metadata": {},
   "source": [
    "## Exercise 2\n",
    "Il tempo di attesa dal dottore è di circa trenta minuti e la distribuzione di tali tempi segue una probabilità esponenziale con un fattore pari a $1/30$.\n",
    "Si chiede di:\n",
    "- estrarre da questa distribuzione di probabilità cinquanta samples e rappresentarne un istogramma; \n",
    "- manipolare la pdf per calcolare quale sia la probabilità che una persona aspetti meno di dieci minuti;\n",
    "- calcolare il valor medio di attesa a partire dai dati estratti, dalla pdf implementata in R e dalla teoria;\n",
    "- trovare la probabilità di essere ricevuti dopo un'ora."
   ]
  },
  {
   "cell_type": "markdown",
   "metadata": {},
   "source": [
    "#### Random samples estratti dalla distribuzione esponenziale"
   ]
  },
  {
   "cell_type": "code",
   "execution_count": 6,
   "metadata": {
    "tags": []
   },
   "outputs": [
    {
     "data": {
      "image/png": "[encoded data removed]",
      "text/plain": [
       "Plot with title \"Histogram of exp.samples\""
      ]
     },
     "metadata": {
      "image/png": {
       "height": 420,
       "width": 420
      }
     },
     "output_type": "display_data"
    }
   ],
   "source": [
    "# estraggo quanti samples desidero tramite la funzione rexp (random samples from an exponential ditribution \n",
    "# given the decay rate)\n",
    "\n",
    "l <- 1/30\n",
    "exp.samples <- rexp(50, l)\n",
    "hist(exp.samples, col=\"lightblue\", freq=F, xlab=\"samples\")\n",
    "curve(dexp(x, rate = 1/30), add = T, col = \"blue\")"
   ]
  },
  {
   "cell_type": "markdown",
   "metadata": {},
   "source": [
    "#### Calcolo della probabilità di aspettare meno di dieci minuti e più di un'ora\n",
    "\n",
    "Dalla definizione di una distribuzione di probabilità $f(x)$ sappiamo che:\n",
    "\\begin{equation}\n",
    "P(X<10) = \\int_{-\\infty}^{10} f(x)  \\ \\mathrm{d} x \\\\\n",
    "P(X>60) = \\int_{60}^{+\\infty} f(x)  \\ \\mathrm{d} x \n",
    "\\end{equation}\n",
    "Essendo una distribuzione dimensionalmente una densità quando parliamo di probabilità a partire da una distribuzione continua bisogna sempre considerare una somma di valori in un intervallo finito. Non si tratta di una semplice somma in quanto bisogna moltiplicare per l'ampiezza \"infinitesima\" di tale intervallo di random variable affinchè il risultato sia una probabilità cioè una quantità adimensionale. Inoltre passando da una variabile random discreta ad una continua è naturale riscrivere una somma di valori assunti dalla funzione (che in quel caso è propriamente una probabilità) come un integrale di una densità in un intervallo continuo."
   ]
  },
  {
   "cell_type": "code",
   "execution_count": 7,
   "metadata": {},
   "outputs": [
    {
     "name": "stdout",
     "output_type": "stream",
     "text": [
      "[1] \"La probabilità che una persona aspetti meno di dieci minuti é = 0.283468689426211\"\n",
      "[1] \"La probabilità che una persona aspetti meno di dieci minuti é = 0.283468689426211\"\n",
      "[1] \"La probabilità che una persona aspetti meno di dieci minuti é = 0.283468689426211\"\n",
      "[1] \"La probabilità che una persona aspetti più di un'ora è = 0.135335283236613\"\n"
     ]
    }
   ],
   "source": [
    "# per calcolare la probabilità che una persona aspetti meno di dieci minuti utilizzo la cdf ottenuta \n",
    "# dalla distribuzione esponenziale dato il rate l.\n",
    "\n",
    "print(paste0(\"La probabilità che una persona aspetti meno di dieci minuti é = \", pexp(10,l)))\n",
    "\n",
    "# confrontiamo questo risultato con il calcolo numerico dell'integrale della pdf nell'intervallo di tempo \n",
    "# [0,10] minuti \n",
    "\n",
    "pdf.exp <- function(x) l*exp(-l*x)\n",
    "# poichè integrate vuole una funzione di x e non posso specificare un altro parametro essendo l'integrazione\n",
    "# in una dimensione sfrutto la dichiarazione precedente del rate l come global variable.\n",
    "\n",
    "print(paste0(\"La probabilità che una persona aspetti meno di dieci minuti é = \", integrate(pdf.exp,0,10)$value))\n",
    "\n",
    "# un terzo modo che ho per calcolare questa probabilità è sfruttando la forma analitica delle cdf per una\n",
    "# distribuzione esponenziale e valutarla per x = 10 minuti\n",
    "\n",
    "cdf.exp <- function(x) 1 - exp(-l*x)\n",
    "print(paste0(\"La probabilità che una persona aspetti meno di dieci minuti é = \", cdf.exp(10)))\n",
    "\n",
    "# calcolo in una sola maniera la probabilità che una persona aspetti più di un'ora, cioè sessanta minuti\n",
    "print(paste0(\"La probabilità che una persona aspetti più di un'ora è = \",pexp(60,l, lower.tail = FALSE)))"
   ]
  },
  {
   "cell_type": "markdown",
   "metadata": {},
   "source": [
    "#### Calcolo di alcuni momenti principali di una distribuzione esponenziale\n",
    "Noti un certo numero $N$ di samples estratti da una distribuzione di probabilità $f(x)$ è possibile calcolare il loro valor medio come:\n",
    "\\begin{equation}\n",
    "\\mu = \\frac{\\sum_{i}^{N}x_i}{N}\n",
    "\\end{equation}\n",
    "Al limite per $N$ molto grande sappiamo inoltre che tale valor medio tende al valore atteso di una random variable tratta da una densità di probabilità:\n",
    "\\begin{equation}\n",
    "\\mu \\rightarrow \\mathbb{E}(x) = \\int_{-\\infty}^{+\\infty}xf(x) \\ \\mathrm{d} x \n",
    "\\end{equation}\n",
    "E' possibile pertanto confrontare direttamente il valor medio calcolato a partire da un numero finito di punti estratti dalla disitribuzione $f(x)$ e quello che invece ci aspettiamo dalla soluzione analitica del primo momento di tale distribuzione.\n",
    "Lo stesso discorso vale anche per la varianza e per i momenti successivi di una qualsiasi distribuzione di probabilità."
   ]
  },
  {
   "cell_type": "code",
   "execution_count": 8,
   "metadata": {},
   "outputs": [
    {
     "name": "stdout",
     "output_type": "stream",
     "text": [
      "[1] \"Il tempo medio di attesa calcolato dai dati simulati vale circa 29.925003033304 minuti\"\n",
      "[1] \"Il tempo medio di attesa noto il rate lambda della distribuzione vale 30 minuti\"\n",
      "[1] \"Il tempo medio di attesa calcolato tramite la definizione integrale vale circa 29.9999999999382 minuti\"\n"
     ]
    }
   ],
   "source": [
    "# Il valor medio dei tempi di attesa si può calcolare direttamente a partire dai dati che sono stati \n",
    "# estratti dalla distribuzione di probabilità esponenziale. \n",
    "\n",
    "print(paste0(\"Il tempo medio di attesa calcolato dai dati simulati vale circa \",mean(exp.samples), \" minuti\"))\n",
    "print(paste0(\"Il tempo medio di attesa noto il rate lambda della distribuzione vale \", 30,\" minuti\"))\n",
    "\n",
    "#confrontiamo questi valori con la definizione di valore atteso data una distribuzione di probabilità\n",
    "xf <- function(x) x*l*exp(-l*x)\n",
    "\n",
    "print(paste0(\"Il tempo medio di attesa calcolato tramite la definizione integrale vale circa \",integrate(xf,0,+Inf)$value,\" minuti\"))"
   ]
  },
  {
   "cell_type": "markdown",
   "metadata": {},
   "source": [
    "## Exercise 3\n",
    "Supponiamo che nelle pagine di un libro ci sia un errore di battitura ogni tre pagine. \n",
    "Si considera che il numero di errori segua la distribuzione di probabilità di Poisson. Si chiede di rappresentare la pdf e cdf e di calcolare la probabilità che in una pagina del libro vi sia almeno un errore"
   ]
  },
  {
   "cell_type": "markdown",
   "metadata": {},
   "source": [
    "#### Plot della pdf e cdf \n",
    "Se il numero di errori segue la distribuzione di probabilità di Poisson allora esso altro non è che una random variable estratta da $f(x)=\\frac{\\lambda^n}{n!}e^{-\\lambda}$ dove $n$ è il numero di eventi mentre $\\lambda$ è il reciproco della frequenza di tempo in cui avviene un errore."
   ]
  },
  {
   "cell_type": "code",
   "execution_count": 9,
   "metadata": {},
   "outputs": [
    {
     "data": {
      "image/png": "[encoded data removed]",
      "text/plain": [
       "Plot with title \"Poisson PDF (lambda=1/3)\""
      ]
     },
     "metadata": {
      "image/png": {
       "height": 420,
       "width": 420
      }
     },
     "output_type": "display_data"
    },
    {
     "data": {
      "image/png": "[encoded data removed]",
      "text/plain": [
       "Plot with title \"Poisson CDF (lambda=1/3)\""
      ]
     },
     "metadata": {
      "image/png": {
       "height": 420,
       "width": 420
      }
     },
     "output_type": "display_data"
    }
   ],
   "source": [
    "x <- 0:10\n",
    "#scelgo un numero di eventi così piccolo in quanto per definzione la distribuzione discreta (ecco perchè \n",
    "# uso direttamente 1:5 con spazio di un'unità anzichè punti più fitti sempre in [1,5]) di Poisson vale per\n",
    "# eventi che accadono raramente.\n",
    "\n",
    "plot(x,dpois(x,lambda=1/3),main=\"Poisson PDF (lambda=1/3)\", xlab=\"Numero di erori in una pagina\",ylab=\"Probabilità di avere n errori in una pagina\",type=\"b\")\n",
    "plot(x,ppois(x,lambda=1/3),main=\"Poisson CDF (lambda=1/3)\", xlab=\"Numero di errori in una pagina\",ylab=\"Probabilità di avere n in [0,n] errori in una pagina\",type=\"b\")"
   ]
  },
  {
   "cell_type": "markdown",
   "metadata": {},
   "source": [
    "#### Probabilità che vi sia almeno un errore in una pagina \n",
    "Calcolare questa probabilità è analogo a considerare l'evento complementare. Sia l'evento $E$=\"trovare almeno un errore in una pagina\", allora l'evento complementare $E_*$=\"trovare meno di un errore in una pagina\" oppure essendo la distribuzione discreta \"trovare zero errori in una pagina\".\n",
    "Sia $n$ la nostra random variable:\n",
    "\\begin{equation}\n",
    "P(n\\geq1) = 1-P(n<1) = 1-P(n=0) = 1-e^{-1/3}\n",
    "\\end{equation}"
   ]
  },
  {
   "cell_type": "code",
   "execution_count": 10,
   "metadata": {
    "tags": []
   },
   "outputs": [
    {
     "name": "stdout",
     "output_type": "stream",
     "text": [
      "[1] \"La probabilità che vi sia almeno un errore in una pagina è 0.283468689426211\"\n",
      "[1] \"La probabilità che vi sia almeno un errore in una pagina è 0.283468689426211\"\n",
      "[1] \"La probabilità che vi sia almeno un errore in una pagina è 0.283468689426211\"\n"
     ]
    }
   ],
   "source": [
    "# utilizzo sia la funzione ppois che la definizione vista nella cella sopra\n",
    "\n",
    "print(paste0(\"La probabilità che vi sia almeno un errore in una pagina è \",ppois(0,lambda=1/3,lower.tail=FALSE)))\n",
    "print(paste0(\"La probabilità che vi sia almeno un errore in una pagina è \",1-ppois(0,lambda=1/3,lower.tail=TRUE)))\n",
    "print(paste0(\"La probabilità che vi sia almeno un errore in una pagina è \",1-exp(-1/3)))"
   ]
  },
  {
   "cell_type": "markdown",
   "metadata": {},
   "source": [
    "## Exercise 4"
   ]
  },
  {
   "cell_type": "markdown",
   "metadata": {},
   "source": [
    "Si estraggono seguendo una distribuzione di probabilità uniforme delle carte da un mazzo di 52 carte con reinserimento fino a quando si osserva un asso. Qual è la probabilità che ci sia bisogno almeno di 10 estrazioni?\n",
    "La probabilità di trovare un asso in n estrazioni è pari a:\n",
    "\n",
    "\\begin{equation}\n",
    "f(X=n)=p(1−p)^n−1\n",
    "\\end{equation}\n",
    "\n",
    "Mentre la probabilità di trovare un asso entro le prime n estrazioni vale:\n",
    "\n",
    "\\begin{equation}\n",
    "F(X=n)=1−(1−p)^n\n",
    "\\end{equation}\n",
    "Dove $F(x)$ è la cumulative distribution function associata alla distribuzione geometrica. Nel nostro caso vogliamo estrarre almeno n carte prima di trovare l'asso quindi cerchiamo $1-F(X=n)$"
   ]
  },
  {
   "cell_type": "code",
   "execution_count": 11,
   "metadata": {},
   "outputs": [
    {
     "name": "stdout",
     "output_type": "stream",
     "text": [
      "[1] \"La probabilità che esca un asso dopo almeno dieci estrazioni è 0.449137107141863\"\n",
      "[1] \"La probabilità che esca un asso dopo almeno dieci estrazioni è 0.449137107141864\"\n"
     ]
    }
   ],
   "source": [
    "# l'estrazione di una carta dal mazzo di 52 segue la distribuzione geometrica. In questo caso chiediamo \n",
    "# quale sia la probabilità che siano estratte almeno nove carte prima di trovare un asso. Pertanto utilizzo\n",
    "# la cumulative distribution function per x=9, p=1/52 e lower.tail=false\n",
    "\n",
    "print(paste0(\"La probabilità che esca un asso dopo almeno dieci estrazioni è \",pgeom(9,prob=4/52,lower.tail=FALSE)))\n",
    "print(paste0(\"La probabilità che esca un asso dopo almeno dieci estrazioni è \",(1-4/52)^10))\n",
    "\n",
    "# ho confrontato la funzione base di R con la relazione vista nella cella precedente che riguarda \n",
    "# la cdf"
   ]
  },
  {
   "cell_type": "markdown",
   "metadata": {},
   "source": [
    "## Exercise 5\n",
    "Sia $t$ il tempo necessario in ore per completare il test TOLC-I, consideriamo che esso segua la seguente densità di probabilità:\n",
    "\n",
    "\\begin{equation}\n",
    "f(t) = \\left\\{ \\begin{array} \\ c(t-1)(2-t) \\quad 1 < t < 2 \\\\ 0 \\quad \\text{altrimenti} \\end{array} \\right. \n",
    "\\end{equation}\n",
    "\n",
    "- utilizzando la funzione integrate() determinare la costante di integrazione $c$;\n",
    "- rappresentare la pdf e cdf tramite delle funzioni appositamente definite;\n",
    "- valutare la probabilità che uno studente finisca il test attitudinale in più di 75 minuti e che impieghi rispettivamente 90 e 120 minuti."
   ]
  },
  {
   "cell_type": "markdown",
   "metadata": {},
   "source": [
    "#### Determinare la costante di integrazione \n",
    "Analiticamente nell'intervallo $t\\in [1,2]$ l'integrale della funzione $f(t)$ deve restituire uno affinchè tale funzione possa rappresentare una distribuzione di probabilità:\n",
    "\\begin{equation}\n",
    "\\int_{-\\infty}^{+\\infty} f(t) \\ \\mathrm{d} t = 1\n",
    "\\end{equation}\n",
    "Pertanto essendo la funzione definita unicamente nell'intervallo $[1,2]$ per la proprietà di linearità dell'integrale si può scrivere:\n",
    "\n",
    "\\begin{equation}\n",
    "\\int_{-\\infty}^{+\\infty} f(t) \\ \\mathrm{d} t =  \\int_{1}^{2} f(t) \\ \\mathrm{d} t =\n",
    " \\int_{1}^{2}c(t-1)(2-t) \\ \\mathrm{d} t  = \\dots = c\\frac{1}{6}\n",
    "\\end{equation}\n",
    "Segue che la costante $c=6$. \n",
    "E' possibile confrontare questo risultato con quello numerico tramite la funzione di R \"integrate()\"."
   ]
  },
  {
   "cell_type": "code",
   "execution_count": 12,
   "metadata": {},
   "outputs": [
    {
     "name": "stdout",
     "output_type": "stream",
     "text": [
      "Il valore dell'integrale calcolato numericamente è  0.1666667 \n",
      "Il valore dell'integrale calcolato analiticamente è  0.1666667 \n",
      "L'errore commesso calcolando l'integrale numericamente rispetto al valore analitico è di circa\n",
      "1.850372e-15\n"
     ]
    }
   ],
   "source": [
    "# definisco innanzitutto la funzione integranda cioè la pdf per casi \n",
    "pdf <- function(t) {ifelse((t > 1 & t < 2), (t-1)*(2-t), 0)}\n",
    "integral <- integrate(pdf,1,2)\n",
    "cat(\"Il valore dell'integrale calcolato numericamente è \",integral$value,\"\\n\")\n",
    "cat(\"Il valore dell'integrale calcolato analiticamente è \",1/6,\"\\n\")\n",
    "cat(\"L'errore commesso calcolando l'integrale numericamente rispetto al valore analitico è di circa\",integral$abs.error, sep=\"\\n\")"
   ]
  },
  {
   "cell_type": "markdown",
   "metadata": {},
   "source": [
    "#### PDF e CDF\n",
    "Osserviamo che la funzione $f(t)$ è già una pdf quindi è necessario calcolare la cumulative distribution function (cdf). Per fare ciò possiamo integrare numericamente la pdf oppure scriverne la forma analitica a partire dalla pdf. Ricordiamo che per estrarre successivamente dei samples dalla pdf bisognerà restringere il campo al dominio in cui la pdf è monotona crescente dunque invertibile.\n",
    "\n",
    "Analiticamente troviamo che la funzione integrale $F(t)$ della pdf vale:\n",
    "\n",
    "\\begin{equation}\n",
    "F(t) = \\left\\{ \\begin{array} \\ 0 \\quad t\\leq1 \\\\ \\int_{1}^{t} (18x-6x^2-12)\\ \\mathrm{d} x \\quad 1 < t < 2 \\\\ 0 \\quad \\text{altrimenti} \\end{array} \\right. \n",
    "\\end{equation}\n",
    "Ovvero quando $t\\in[1,2]$:\n",
    "$$F(t) = 9t^2-2t^3-12t+5$$\n",
    "Infatti per $t=2$ si trova $F(2)=1$ come volevasi dimostrare per costruzione essendo questo valore corrispondente alla probabilità totale nel dominio di definizione della pdf."
   ]
  },
  {
   "cell_type": "code",
   "execution_count": 13,
   "metadata": {},
   "outputs": [
    {
     "data": {
      "image/png": "[encoded data removed]",
      "text/plain": [
       "Plot with title \"PDF\""
      ]
     },
     "metadata": {
      "image/png": {
       "height": 420,
       "width": 420
      }
     },
     "output_type": "display_data"
    },
    {
     "data": {
      "image/png": "[encoded data removed]",
      "text/plain": [
       "Plot with title \"CDF\""
      ]
     },
     "metadata": {
      "image/png": {
       "height": 420,
       "width": 420
      }
     },
     "output_type": "display_data"
    }
   ],
   "source": [
    "x <- seq(0,3,by=0.001)\n",
    "# assegno al vettore x le ascisse utili a rappresentare la pdf e cdf \n",
    "cdf <- function(t, lower.tail=TRUE) {\n",
    "    y <- ifelse((t <= 1), 0, ifelse((t >= 2), 1, -2*t^3 + 9*t^2 - 12*t + 5))\n",
    "    # utilizzo il costrutto ifelse per rendere vettorizzato il controllo dell'if loop che altrimenti sarebbe\n",
    "    # stato scalare \n",
    "    if (lower.tail == FALSE) {y <- (1 - y)}\n",
    "    # in questo modo chiedo di valutare la probabilità dell'evento complementare dunque è come se anzichè \n",
    "    # considerare la cdf come la P(x<=x_0) stessi prendendo P(x>x_0)    \n",
    "    return(y)\n",
    "}\n",
    "\n",
    "# posso definire la cdf anche integrando la pdf numericamente in questo modo \n",
    "cdf.num <- function(t,lower.tail=TRUE) {\n",
    "    f <- function(t) {ifelse((t > 1 & t < 2), 6*(t-1)*(2-t), 0)}\n",
    "    g <- Vectorize(function(z) {integrate(f, 1, z)$value})\n",
    "    y <- ifelse((t <= 1), 0, ifelse((t >= 2),1,g(t)))\n",
    "    if (lower.tail == FALSE) {y <- (1 - y)}\n",
    "    return(y)\n",
    "}\n",
    "\n",
    "# adesso posso rappresentare la pdf e la cdf\n",
    "plot(x,pdf(x), col=\"blue\", xlab=\"ore\",ylab=\"Densità di probabilità\", main=\"PDF\")\n",
    "plot(x,cdf(x), col=\"red\", xlab=\"ore\",ylab=\"Probabilità che un esame duri x ore\", main=\"CDF\")"
   ]
  },
  {
   "cell_type": "code",
   "execution_count": 16,
   "metadata": {},
   "outputs": [],
   "source": [
    "#cdf.num1 <- function(t,lower.tail=TRUE) {\n",
    "#    f <- function(t) {ifelse((t > 1 & t < 2), 6*(t-1)*(2-t), 0)}\n",
    "#    if (t <= 1) {y <- 0}\n",
    "#    if (t > 1 & t < 2) {y <- (integrate(f,1,t)$value)}\n",
    "#    if (t >= 2) {y <- 1}\n",
    "#    #if (lower.tail == FALSE) {y <- (1 - y)}\n",
    "#    return(y)\n",
    "#}"
   ]
  },
  {
   "cell_type": "code",
   "execution_count": 17,
   "metadata": {},
   "outputs": [
    {
     "name": "stdout",
     "output_type": "stream",
     "text": [
      "[1] \"L'integrazione numerica e analitica hanno restituito la stessa funzione integrale\"\n"
     ]
    }
   ],
   "source": [
    "# posso verificare che le due funzioni cdf siano equivalenti confrontandone gli output \n",
    "\n",
    "if (all.equal(cdf(x),cdf.num(x))){print(\"L'integrazione numerica e analitica hanno restituito la stessa funzione integrale\")}"
   ]
  },
  {
   "cell_type": "markdown",
   "metadata": {},
   "source": [
    "#### Funzione inversa della CDF (quantile function)\n",
    "La funzione quantile consiste nel trovare quei valori dei samples $t$ tali che la probabilità che la random variable sia minore o uguale di essi sia $y$. Tale definizione corrisponde all'inversa della CDF. La CDF assume valori in $[0,1]$ per definizione di probabilità e in quest intervallo è definita monotona crescente pertanto invertibile."
   ]
  },
  {
   "cell_type": "code",
   "execution_count": 14,
   "metadata": {},
   "outputs": [
    {
     "data": {
      "image/png": "[encoded data removed]",
      "text/plain": [
       "Plot with title \"Quantile function\""
      ]
     },
     "metadata": {
      "image/png": {
       "height": 420,
       "width": 420
      }
     },
     "output_type": "display_data"
    }
   ],
   "source": [
    "n = 1000\n",
    "x = seq(1,2, length=n)\n",
    "# se adesso dovessi avere come input di una funzione dei samples di y uniformemente distribuiti in [0,1] come potrei ricavare\n",
    "# i corrispondenti valori di x?\n",
    "# estraggo innanzitutto una probabilità uniformemente in [0,1]. Teoricamente dovrei andare a risolvere l'equazione f(x)=y per trovare x dove y\n",
    "# è il valore che ho appena scelto con runif(1,min=0,max=1). Adesso noto il valore della cdf teorica dato da f(x) faccio in modo di scegliere \n",
    "# l'indice di x tale che la differenza f(x)-y sia la minima possibile in valore assoluto. In questa maniera è come se confrontassi uno ad uno \n",
    "# le probabilità presenti nel vettore f(x) e prendessi quella più vicina ad y, visto a quale indice corrisponde utilizzo lo stesso per \n",
    "# selezionare la x corrispondente che sarà il mio output \n",
    "qdf <- function(x) {\n",
    "    x.out = c()\n",
    "    y.out = c()\n",
    "    y = cdf(x)\n",
    "    for (i in seq(length(x))){\n",
    "        y.in = runif(1,min=0,max=1)\n",
    "        x.out[i] = x[which.min(abs(y-y.in))]\n",
    "        y.out[i] = y.in\n",
    "    }\n",
    "    return(list(x.out = x.out, y.out = y.out))\n",
    "}\n",
    "\n",
    "# attenzione!!! quando faccio un plot devo chiamare la funzione solo una volta altrimenti quando costruisco i due vettori x e y della quantile \n",
    "# essi non saranno correlati. Se la chiamo due volte, nella prima avrò delle x associate ad una serie randomica di y generate dalla funzione, \n",
    "# nella seconda invece le y saranno diverse in quanto la generazione di numeri è pseudocasuale. Per risolvere questo problema dovrei \n",
    "# generare all'esterno della funzione i numeri casuali y\n",
    "\n",
    "res.qdf <- qdf(x)\n",
    "plot(res.qdf[[2]],res.qdf[[1]], main=\"Quantile function\",xlab=\"Probability\",ylab=\"Random samples\")"
   ]
  },
  {
   "cell_type": "markdown",
   "metadata": {},
   "source": [
    "#### Random sampler \n",
    "Il primo output della funzione precedente costituisce un generatore di numeri casuali che seguono la distribuzione di probabilità $f$."
   ]
  },
  {
   "cell_type": "markdown",
   "metadata": {},
   "source": [
    "#### Probabilità che uno studente finisca il test in più di 75 minuti, che impieghi tra 90 e 120 minuti\n",
    "Nota la cdf $F(t)$ sfruttiamo la definizione:\n",
    "$$P(X > x) = 1 - P(X \\leq x) = 1 - F(X=x) $$\n",
    "In questo caso $x=\\frac{75}{60},\\frac{90}{60},\\frac{120}{60}$ essendo la random variable espressa in ore e non in minuti.\n",
    "La probabilità che uno studente finisca in più di 75 minuti è dunque equivalente alla probabilità che non finisca entro 75 minuti. \n",
    "Per la seconda richiesta posso utilizzare la seguente interpretazione:\n",
    "$$ P(90 < X < 120) = 1 - [P(X < 90) + P(X > 120)] $$"
   ]
  },
  {
   "cell_type": "code",
   "execution_count": 31,
   "metadata": {},
   "outputs": [
    {
     "name": "stdout",
     "output_type": "stream",
     "text": [
      "[1] \"La probabilità che uno studente finisca in più di 75 minuti è 0.84375\"\n",
      "[1] \"La probabilità che uno studente finisca in meno di 90 minuti è 0.5\"\n",
      "[1] \"La probabilità che uno studente finisca in più di 120 minuti è 0\"\n",
      "[1] \"La probabilità che uno studente finisca tra 90 e 120 minuti è 0.5\"\n",
      "[1] \"La probabilità che uno studente finisca tra 90 e 120 minuti è 0.5\"\n"
     ]
    }
   ],
   "source": [
    "print(paste0(\"La probabilità che uno studente finisca in più di 75 minuti è \",cdf(75/60, lower.tail=FALSE)))\n",
    "print(paste0(\"La probabilità che uno studente finisca in meno di 90 minuti è \",cdf(90/60)))\n",
    "print(paste0(\"La probabilità che uno studente finisca in più di 120 minuti è \",cdf(120/60, lower.tail=FALSE)))\n",
    "print(paste0(\"La probabilità che uno studente finisca tra 90 e 120 minuti è \",1-cdf(90/60)))\n",
    "\n",
    "# oppure integrando la pdf in [1.5,2]\n",
    "pdf.norm <- function(t) {ifelse((t > 1 & t < 2), 6*(t-1)*(2-t), 0)} \n",
    "print(paste0(\"La probabilità che uno studente finisca tra 90 e 120 minuti è \",integrate(pdf.norm, 1.5,2)$value))"
   ]
  },
  {
   "cell_type": "markdown",
   "metadata": {},
   "source": [
    "## Exercise 6 \n",
    "La vita di uno pneumatico usato è $10^4 x \\ km$ dove $x$ è una random variable che segue la distribuzione di probabilità: \n",
    "\n",
    "\n",
    "\\begin{equation}\n",
    "f(X) = \\left\\{ \\begin{array} \\ 2/x^2 \\quad 1 < x < 2 \\\\ 0 \\quad \\text{altrimenti} \\end{array} \\right. \n",
    "\\end{equation}\n",
    "\n",
    "- scrivere il set di quattro equazioni che descrivono la pdf e cdf e rappresentarle;\n",
    "- calcolare la probabilità che uno penumatico duri meno di $15000 km$\n",
    "- estrarre 3000 samples dalla distribuzione e calcolare valor medio e varianza."
   ]
  },
  {
   "cell_type": "markdown",
   "metadata": {},
   "source": [
    "#### PDF e CDF\n",
    "\n",
    "Analogamente a quanto visto prima scriviamo la funzione integrale $F(X)$, cdf della distribuzione di probabilità sopra definita.\n",
    "Quest ultima è già normalizzata pertanto non dobbiamo preoccuparci di trovare l'opportuna costante di normalizzazione.\n",
    "\n",
    "\\begin{equation}\n",
    "F(X)= \\left\\{ \\begin{array} \\ \\int_{1}^{x} \\frac{2}{t^2} \\ \\mathrm{d} t \\quad 1 < x < 2 \\\\ 0 \\quad \\text{altrimenti} \\end{array} \\right.\n",
    "\\end{equation}\n",
    "\n",
    "Quando $x \\in [1,2]$ allora:\n",
    "$$ F(X) = -\\frac{2}{x} + 2 $$ "
   ]
  },
  {
   "cell_type": "code",
   "execution_count": 19,
   "metadata": {},
   "outputs": [
    {
     "data": {
      "image/png": "[encoded data removed]",
      "text/plain": [
       "Plot with title \"PDF\""
      ]
     },
     "metadata": {
      "image/png": {
       "height": 420,
       "width": 420
      }
     },
     "output_type": "display_data"
    },
    {
     "data": {
      "image/png": "[encoded data removed]",
      "text/plain": [
       "Plot with title \"CDF\""
      ]
     },
     "metadata": {
      "image/png": {
       "height": 420,
       "width": 420
      }
     },
     "output_type": "display_data"
    }
   ],
   "source": [
    "# definisco due funzioni f ed F \n",
    "dtire <- function (x, lower.tail = TRUE) {\n",
    "    y <- ifelse((x > 1  & x < 2), 2/x^2, 0)\n",
    "    if (lower.tail ==FALSE) {y <- (1-y)}\n",
    "    return(y)\n",
    "}\n",
    "\n",
    "ptire <- function(x, lower.tail=TRUE) {\n",
    "    y <- ifelse((x <= 1),0, ifelse((x >= 2),1,(-2/x)+2))\n",
    "    if (lower.tail == FALSE) {y <- (1 - y)}\n",
    "    return(y)\n",
    "}\n",
    "\n",
    "ptire.num<- function(x,lower.tail=TRUE) {\n",
    "    f <- function(x) {ifelse((x > 1 & t < 2), 2/x^2, 0)}\n",
    "    g <- Vectorize(function(z) {integrate(f, 1, z)$value})\n",
    "    y <- ifelse((x <= 1), 0, ifelse((x >= 2),1,g(t)))\n",
    "    if (lower.tail == FALSE) {y <- (1 - y)}\n",
    "    return(y)\n",
    "}\n",
    "\n",
    "plot(x,dtire(x), type=\"b\", col=\"blue\",xlab=\"Frazione di chilometri di vita di uno pneumatico\", ylab=\"Densità di probabilità\", main=\"PDF\")\n",
    "plot(x,ptire(x), type=\"b\", col=\"red\",xlab=\"Frazione di chilometri di vita di uno pneumatico\", ylab=\"Probabilità\", main=\"CDF\")\n",
    "#plot(x,ptire.num(x), type=\"b\", col=\"red\",xlab=\"Frazione di chilometri di vita di uno pneumatico\", ylab=\"Probabilità\", main=\"CDF numerical\")"
   ]
  },
  {
   "cell_type": "markdown",
   "metadata": {},
   "source": [
    "#### Probabilità che uno pneumatico duri meno di $15000 \\ \\text{km}$ \n",
    "Possiamo utilizzare nuovamente la definizione della CDF e valutarla nel punto $x=1.5$"
   ]
  },
  {
   "cell_type": "code",
   "execution_count": 20,
   "metadata": {},
   "outputs": [
    {
     "name": "stdout",
     "output_type": "stream",
     "text": [
      "La probabilità che uno pneumatico duri meno di 15000 km è 0.6666667"
     ]
    }
   ],
   "source": [
    "cat(\"La probabilità che uno pneumatico duri meno di 15000 km è\", ptire(1.5))"
   ]
  },
  {
   "cell_type": "markdown",
   "metadata": {},
   "source": [
    "#### Estrazione di n samples dalla distribuzione di probabilità\n",
    "Nota la forma analitica della CDF sfrutto il metodo dell'inverse sampling per estrarre gli n samples dalla distribuzione di probabilità $f(x)$.\n",
    "Se $X$ è una random variable continua con CDF $F_X$ allora la variabile random $F_X$ ha una distribuzione uniforme in $[0,1]$. Invertendo la $F_X$ e dandole in pasto samples estratti randomicamente in $[0,1]$ il risultato sarebbero samples estratti dalla nostra distribuzione di partenza.\n",
    "\n",
    "$$ F^{-1}(Y) = \\frac{2}{2-y} \\ \\ \\ \\ \\  ,y \\neq 2,   y \\in [0,1]$$ "
   ]
  },
  {
   "cell_type": "markdown",
   "metadata": {},
   "source": [
    "#### Valor atteso esatto dalla distribuzione:\n",
    "\\begin{equation}\n",
    "\\mathbb{E}(X) = \\int_{-\\infty}^{+\\infty} x f(x) \\ \\mathrm{d} x =  \\int_1^2 \\frac{2}{x} \\ \\mathrm{d}x = \\left[2\\ln x\\right]_1^2 \\approx 1.386\n",
    "\\end{equation}\n",
    "#### Varianza esatta:\n",
    "\\begin{equation}\n",
    "\\mathbb{E}(X^2) = \\int_{-\\infty}^{+\\infty} x^2 f(x) \\ \\mathrm{d} x =  \\int_1^2 2 \\ \\mathrm{d}x = 2 \\left[x\\right]_1^2 =  2\n",
    "\\end{equation}\n",
    "\n",
    "\\begin{equation}\n",
    "\\mathrm{Var}(X) = \\mathbb{E}(X^2) - (\\mathbb{E}(X))^2 = 2 - (\\ln 4)^2 \\approx 0.078\n",
    "\\end{equation}"
   ]
  },
  {
   "cell_type": "code",
   "execution_count": 22,
   "metadata": {},
   "outputs": [
    {
     "name": "stdout",
     "output_type": "stream",
     "text": [
      "Il valor medio è circa 1.38955 \n",
      "La varianza è circa 0.08041249"
     ]
    }
   ],
   "source": [
    "y <- runif(3000)\n",
    "randm <- function(d) 2/(2-d)\n",
    "xrandm <- randm(y)\n",
    "#plot(a,y)\n",
    "cat(\"Il valor medio è circa\",mean(xrandm),\"\\n\")\n",
    "cat(\"La varianza è circa\",mean(xrandm^2)-mean(xrandm)^2)"
   ]
  }
 ],
 "metadata": {
  "kernelspec": {
   "display_name": "R",
   "language": "R",
   "name": "ir"
  },
  "language_info": {
   "codemirror_mode": "r",
   "file_extension": ".r",
   "mimetype": "text/x-r-source",
   "name": "R",
   "pygments_lexer": "r",
   "version": "4.0.4"
  }
 },
 "nbformat": 4,
 "nbformat_minor": 4
}
